{
 "cells": [
  {
   "cell_type": "markdown",
   "metadata": {},
   "source": [
    "# Titantic Survival"
   ]
  },
  {
   "cell_type": "code",
   "execution_count": 1,
   "metadata": {},
   "outputs": [
    {
     "name": "stdout",
     "output_type": "stream",
     "text": [
      "Python 3.7.8\n"
     ]
    }
   ],
   "source": [
    "#Author: Caleb Woy\n",
    "!python --version\n",
    "# preprocessing\n",
    "import pandas as pd # data manipulation\n",
    "import numpy as np # linear algebra\n",
    "from numpy.random import seed # setting random seeds\n",
    "from scipy.stats import kurtosis, skew, t # checking distributions, t score\n",
    "import matplotlib.pyplot as plt # plotting\n",
    "import math # checking for NaNs\n",
    "import seaborn as sb # plotting\n",
    "import operator # indexing for max\n",
    "# modelling\n",
    "import scipy.spatial.distance as sp # kNN distance\n",
    "from sklearn.model_selection import train_test_split # validation\n",
    "from sklearn.model_selection import RandomizedSearchCV # tuning hyperparams \n",
    "from sklearn.model_selection import GridSearchCV # tuning hyperparams \n",
    "from sklearn.linear_model import LogisticRegression # Logistic Regression\n",
    "from sklearn import tree # Decision tree\n",
    "from sklearn.ensemble import RandomForestClassifier as rfc # Random Forest\n",
    "from sklearn.ensemble import GradientBoostingClassifier as gbc # GBC\n",
    "from sklearn.ensemble import AdaBoostClassifier as ada_boost # generic boosting\n",
    "from sklearn.neighbors import KNeighborsClassifier as knn # K nearest neighbors\n",
    "from sklearn.naive_bayes import MultinomialNB as mnb # Naive Bayes\n",
    "from sklearn.naive_bayes import GaussianNB as gnb # Naive Bayes\n",
    "import tensorflow as tf # neural networks\n",
    "from keras.wrappers.scikit_learn import KerasClassifier # neural networks\n",
    "from keras.models import Sequential  # neural networks\n",
    "from keras.layers import Dense, Activation, Dropout  # neural networks"
   ]
  },
  {
   "cell_type": "markdown",
   "metadata": {},
   "source": [
    "# Loading Data\n",
    "Here we'll load in the train and test data sets to pandas DataFrames. Then\n",
    "we'll append the test DataFrame to the end of the train DataFrame so that \n",
    "all analysis or tranformations we perform during pre-proccessing will be \n",
    "universal."
   ]
  },
  {
   "cell_type": "code",
   "execution_count": 3,
   "metadata": {},
   "outputs": [
    {
     "data": {
      "text/html": [
       "<div>\n",
       "<style scoped>\n",
       "    .dataframe tbody tr th:only-of-type {\n",
       "        vertical-align: middle;\n",
       "    }\n",
       "\n",
       "    .dataframe tbody tr th {\n",
       "        vertical-align: top;\n",
       "    }\n",
       "\n",
       "    .dataframe thead th {\n",
       "        text-align: right;\n",
       "    }\n",
       "</style>\n",
       "<table border=\"1\" class=\"dataframe\">\n",
       "  <thead>\n",
       "    <tr style=\"text-align: right;\">\n",
       "      <th></th>\n",
       "      <th>Age</th>\n",
       "      <th>Cabin</th>\n",
       "      <th>Embarked</th>\n",
       "      <th>Fare</th>\n",
       "      <th>Name</th>\n",
       "      <th>Parch</th>\n",
       "      <th>PassengerId</th>\n",
       "      <th>Pclass</th>\n",
       "      <th>Sex</th>\n",
       "      <th>SibSp</th>\n",
       "      <th>Survived</th>\n",
       "      <th>Ticket</th>\n",
       "    </tr>\n",
       "  </thead>\n",
       "  <tbody>\n",
       "    <tr>\n",
       "      <th>0</th>\n",
       "      <td>22.0</td>\n",
       "      <td>NaN</td>\n",
       "      <td>S</td>\n",
       "      <td>7.2500</td>\n",
       "      <td>Braund, Mr. Owen Harris</td>\n",
       "      <td>0</td>\n",
       "      <td>1</td>\n",
       "      <td>3</td>\n",
       "      <td>male</td>\n",
       "      <td>1</td>\n",
       "      <td>0.0</td>\n",
       "      <td>A/5 21171</td>\n",
       "    </tr>\n",
       "    <tr>\n",
       "      <th>1</th>\n",
       "      <td>38.0</td>\n",
       "      <td>C85</td>\n",
       "      <td>C</td>\n",
       "      <td>71.2833</td>\n",
       "      <td>Cumings, Mrs. John Bradley (Florence Briggs Th...</td>\n",
       "      <td>0</td>\n",
       "      <td>2</td>\n",
       "      <td>1</td>\n",
       "      <td>female</td>\n",
       "      <td>1</td>\n",
       "      <td>1.0</td>\n",
       "      <td>PC 17599</td>\n",
       "    </tr>\n",
       "    <tr>\n",
       "      <th>2</th>\n",
       "      <td>26.0</td>\n",
       "      <td>NaN</td>\n",
       "      <td>S</td>\n",
       "      <td>7.9250</td>\n",
       "      <td>Heikkinen, Miss. Laina</td>\n",
       "      <td>0</td>\n",
       "      <td>3</td>\n",
       "      <td>3</td>\n",
       "      <td>female</td>\n",
       "      <td>0</td>\n",
       "      <td>1.0</td>\n",
       "      <td>STON/O2. 3101282</td>\n",
       "    </tr>\n",
       "    <tr>\n",
       "      <th>3</th>\n",
       "      <td>35.0</td>\n",
       "      <td>C123</td>\n",
       "      <td>S</td>\n",
       "      <td>53.1000</td>\n",
       "      <td>Futrelle, Mrs. Jacques Heath (Lily May Peel)</td>\n",
       "      <td>0</td>\n",
       "      <td>4</td>\n",
       "      <td>1</td>\n",
       "      <td>female</td>\n",
       "      <td>1</td>\n",
       "      <td>1.0</td>\n",
       "      <td>113803</td>\n",
       "    </tr>\n",
       "    <tr>\n",
       "      <th>4</th>\n",
       "      <td>35.0</td>\n",
       "      <td>NaN</td>\n",
       "      <td>S</td>\n",
       "      <td>8.0500</td>\n",
       "      <td>Allen, Mr. William Henry</td>\n",
       "      <td>0</td>\n",
       "      <td>5</td>\n",
       "      <td>3</td>\n",
       "      <td>male</td>\n",
       "      <td>0</td>\n",
       "      <td>0.0</td>\n",
       "      <td>373450</td>\n",
       "    </tr>\n",
       "  </tbody>\n",
       "</table>\n",
       "</div>"
      ],
      "text/plain": [
       "    Age Cabin Embarked     Fare  \\\n",
       "0  22.0   NaN        S   7.2500   \n",
       "1  38.0   C85        C  71.2833   \n",
       "2  26.0   NaN        S   7.9250   \n",
       "3  35.0  C123        S  53.1000   \n",
       "4  35.0   NaN        S   8.0500   \n",
       "\n",
       "                                                Name  Parch  PassengerId  \\\n",
       "0                            Braund, Mr. Owen Harris      0            1   \n",
       "1  Cumings, Mrs. John Bradley (Florence Briggs Th...      0            2   \n",
       "2                             Heikkinen, Miss. Laina      0            3   \n",
       "3       Futrelle, Mrs. Jacques Heath (Lily May Peel)      0            4   \n",
       "4                           Allen, Mr. William Henry      0            5   \n",
       "\n",
       "   Pclass     Sex  SibSp  Survived            Ticket  \n",
       "0       3    male      1       0.0         A/5 21171  \n",
       "1       1  female      1       1.0          PC 17599  \n",
       "2       3  female      0       1.0  STON/O2. 3101282  \n",
       "3       1  female      1       1.0            113803  \n",
       "4       3    male      0       0.0            373450  "
      ]
     },
     "execution_count": 3,
     "metadata": {},
     "output_type": "execute_result"
    }
   ],
   "source": [
    "train_data = pd.read_csv('train.csv')\n",
    "test_data = pd.read_csv('test.csv')\n",
    "# appending \n",
    "data = train_data.append(test_data)\n",
    "data.head()"
   ]
  },
  {
   "cell_type": "markdown",
   "metadata": {},
   "source": [
    "Now we'll check the data types of the columns to make sure that they're all represented properly."
   ]
  },
  {
   "cell_type": "code",
   "execution_count": 4,
   "metadata": {},
   "outputs": [
    {
     "data": {
      "text/plain": [
       "Age            float64\n",
       "Cabin           object\n",
       "Embarked        object\n",
       "Fare           float64\n",
       "Name            object\n",
       "Parch            int64\n",
       "PassengerId      int64\n",
       "Pclass           int64\n",
       "Sex             object\n",
       "SibSp            int64\n",
       "Survived       float64\n",
       "Ticket          object\n",
       "dtype: object"
      ]
     },
     "execution_count": 4,
     "metadata": {},
     "output_type": "execute_result"
    }
   ],
   "source": [
    "data.dtypes"
   ]
  },
  {
   "cell_type": "markdown",
   "metadata": {},
   "source": [
    "The columns Pclass, Cabin, Embarked, and Sex are all non-numeric categorical features. So we'll set them as 'category' and replace them."
   ]
  },
  {
   "cell_type": "code",
   "execution_count": 5,
   "metadata": {},
   "outputs": [
    {
     "data": {
      "text/plain": [
       "Age             float64\n",
       "Cabin          category\n",
       "Embarked       category\n",
       "Fare            float64\n",
       "Name             object\n",
       "Parch             int64\n",
       "PassengerId       int64\n",
       "Pclass         category\n",
       "Sex            category\n",
       "SibSp             int64\n",
       "Survived        float64\n",
       "Ticket           object\n",
       "dtype: object"
      ]
     },
     "execution_count": 5,
     "metadata": {},
     "output_type": "execute_result"
    }
   ],
   "source": [
    "data['Pclass'] = data['Pclass'].astype('category')\n",
    "data['Cabin'] = data['Cabin'].astype('category')\n",
    "data['Embarked'] = data['Embarked'].astype('category')\n",
    "data['Sex'] = data['Sex'].astype('category')\n",
    "data.dtypes"
   ]
  },
  {
   "cell_type": "markdown",
   "metadata": {},
   "source": [
    "# Function Definitions\n",
    "Next we'll define some functions that we may re-use. In data science anything you can duplicate and re-use should be made portable. This speeds up the process. "
   ]
  },
  {
   "cell_type": "code",
   "execution_count": 25,
   "metadata": {},
   "outputs": [],
   "source": [
    "\"\"\"\n",
    "Creating interaction plots between two categorical variables.\n",
    "\"\"\"\n",
    "def interaction_plot(hue_lab, x_lab, data):\n",
    "    # Grouping by the hue_group, then counting by the x_lab group\n",
    "    hue_group = data.groupby([hue_lab], sort=False)\n",
    "    counts = hue_group[x_lab].value_counts(normalize=True, sort=False)\n",
    "\n",
    "    # Creating the percentage vector to measure the frequency of each type\n",
    "    data = [\n",
    "        {hue_lab: hue, x_lab: x, 'percentage': percentage*100} for \n",
    "        (hue, x), percentage in dict(counts).items()\n",
    "    ]\n",
    "\n",
    "    # Creating and plotting the new dataframe \n",
    "    df = pd.DataFrame(data)\n",
    "    p = sb.catplot(x=x_lab, y='percentage', hue=hue_lab, kind=\"point\", data=df);\n",
    "    p.set_xticklabels(rotation=90)\n",
    "    p.fig.suptitle(f'Interaction of {x_lab} ~ {hue_lab}')\n",
    " \n",
    "\n",
    "\"\"\"\n",
    "Extracting the title of an individual from their full name.\n",
    "\"\"\"\n",
    "def extract_title(string_name, titles):\n",
    "    for title in titles:\n",
    "        if (title in string_name):\n",
    "            break\n",
    "    return title\n",
    "\n",
    "\"\"\"\n",
    "Extracting the last name of an individual from their full name.\n",
    "\"\"\"\n",
    "def extract_last_name(string_name):\n",
    "    return string_name.split(',')[0]\n",
    "\n",
    "\"\"\"\n",
    "Creating box plots between x numeric and y categorical.\n",
    "\"\"\"\n",
    "def box_plot(x, y, data):\n",
    "    ax = sb.boxplot(x=data[x], y=data[y])\n",
    "    ax.set_xticklabels(ax.get_xticklabels(),rotation=-90)\n",
    "\n",
    "\"\"\"\n",
    "Return a float of the suspected family's mortality rate. -1 of unknown or solo\n",
    "passenger, else return rate of mortality.\n",
    "\"\"\"\n",
    "def get_fam_mort(last_name, data, row):\n",
    "    mort = 0.0\n",
    "    if row['Parch'] == 0 and row['SibSp'] == 0:\n",
    "        # unknown\n",
    "        mort = -1 \n",
    "    else:\n",
    "        fam_rows = data[(data['LastName'] == last_name) & \n",
    "                        (data['Parch'] > 0) & (data['SibSp'] > 0)]\n",
    "        if len(fam_rows) == 0:\n",
    "            # unknown\n",
    "            mort = -1\n",
    "        else:\n",
    "            # mortality rate\n",
    "            mort = len(fam_rows[fam_rows['Survived'] == 0]) / len(fam_rows)\n",
    "    return mort\n",
    "\n",
    "\n",
    "\"\"\"\n",
    "Imputes the missing age values based on the mean age value of the sub group \n",
    "matching the class of the individual.\n",
    "\"\"\"\n",
    "def impute_age_by_class(Pclass, data, row):\n",
    "    if math.isnan(row['Age']):\n",
    "        return np.mean(data[data['Pclass'] == Pclass]['Age'])\n",
    "    else:\n",
    "        return row['Age']\n",
    "    \n",
    "\"\"\"\n",
    "Imputes the missing fare values based on the mean fare value of the sub group \n",
    "matching the class of the individual. Also replaces fare values equal \n",
    "to 0 that're believed to be erroneous.\n",
    "\"\"\"\n",
    "def impute_fare_by_class(Pclass, data, row):\n",
    "    if math.isnan(row['Fare']) or row['Fare'] == 0:\n",
    "        return np.mean(data[data['Pclass'] == Pclass]['Fare'])\n",
    "    else:\n",
    "        return row['Fare']\n",
    "\n",
    "\"\"\"\n",
    "Min-max scales the column.\n",
    "\"\"\"\n",
    "def min_max(feature_name, data):\n",
    "    min_d, max_d = min(data[feature_name]), max(data[feature_name])\n",
    "    return data.apply(lambda x: (x[feature_name] - min_d) / (max_d - min_d),\n",
    "                    axis = 1)"
   ]
  },
  {
   "cell_type": "markdown",
   "metadata": {},
   "source": [
    "# Data Exploration, Pre-processing, & Feature Engineering\n",
    "Here we'll get to know our data and make it digestable for models later on."
   ]
  },
  {
   "cell_type": "markdown",
   "metadata": {},
   "source": [
    "## Pclass /Categorical, non-binary"
   ]
  },
  {
   "cell_type": "code",
   "execution_count": 7,
   "metadata": {},
   "outputs": [
    {
     "data": {
      "text/plain": [
       "Pclass\n",
       "1    323\n",
       "2    277\n",
       "3    709\n",
       "Name: PassengerId, dtype: int64"
      ]
     },
     "execution_count": 7,
     "metadata": {},
     "output_type": "execute_result"
    }
   ],
   "source": [
    "# setting the feature name we're examining so that we don't have to re-type it\n",
    "feature_name = \"Pclass\"\n",
    "# getting the count of each factor level of Pclass\n",
    "data.groupby(feature_name).count()[\"PassengerId\"]"
   ]
  },
  {
   "cell_type": "markdown",
   "metadata": {},
   "source": [
    "Observation: There are about as many 3rd class passengers as there are 1st and 2nd class passengers combined. Next we'll check to see if there are any missing values for this feature."
   ]
  },
  {
   "cell_type": "code",
   "execution_count": 8,
   "metadata": {},
   "outputs": [
    {
     "data": {
      "text/plain": [
       "0"
      ]
     },
     "execution_count": 8,
     "metadata": {},
     "output_type": "execute_result"
    }
   ],
   "source": [
    "data[feature_name].isnull().sum()"
   ]
  },
  {
   "cell_type": "markdown",
   "metadata": {},
   "source": [
    "Next we'll make an interaction plot to get an idea of how much Pclass effects the odds of survival on average. If the feature is insignificant then the line for Survived will be close to parallel with the line for death."
   ]
  },
  {
   "cell_type": "code",
   "execution_count": 9,
   "metadata": {},
   "outputs": [
    {
     "data": {
      "image/png": "[encoded data removed]",
      "text/plain": [
       "<Figure size 412x360 with 1 Axes>"
      ]
     },
     "metadata": {
      "needs_background": "light"
     },
     "output_type": "display_data"
    }
   ],
   "source": [
    "interaction_plot(\"Survived\", feature_name, data)"
   ]
  },
  {
   "cell_type": "markdown",
   "metadata": {},
   "source": [
    "Observation: The odds of survival seem to be effected by Pclass pretty significantly."
   ]
  },
  {
   "cell_type": "markdown",
   "metadata": {},
   "source": [
    "## Name /Categorical, non-binary"
   ]
  },
  {
   "cell_type": "code",
   "execution_count": 10,
   "metadata": {},
   "outputs": [
    {
     "data": {
      "text/plain": [
       "0"
      ]
     },
     "execution_count": 10,
     "metadata": {},
     "output_type": "execute_result"
    }
   ],
   "source": [
    "# setting the feature name we're examining so that we don't have to re-type it\n",
    "feature_name = \"Name\"\n",
    "# Checking for missing values\n",
    "data[feature_name].isnull().sum()"
   ]
  },
  {
   "cell_type": "markdown",
   "metadata": {},
   "source": [
    "There are a lot of different unique names in our data set. However, each name has a prefix associated with it. There are way fewer unique values of those prefixes so we'll extract those and create a new feature to draw value from."
   ]
  },
  {
   "cell_type": "code",
   "execution_count": 11,
   "metadata": {},
   "outputs": [
    {
     "data": {
      "text/html": [
       "<div>\n",
       "<style scoped>\n",
       "    .dataframe tbody tr th:only-of-type {\n",
       "        vertical-align: middle;\n",
       "    }\n",
       "\n",
       "    .dataframe tbody tr th {\n",
       "        vertical-align: top;\n",
       "    }\n",
       "\n",
       "    .dataframe thead th {\n",
       "        text-align: right;\n",
       "    }\n",
       "</style>\n",
       "<table border=\"1\" class=\"dataframe\">\n",
       "  <thead>\n",
       "    <tr style=\"text-align: right;\">\n",
       "      <th></th>\n",
       "      <th>Age</th>\n",
       "      <th>Cabin</th>\n",
       "      <th>Embarked</th>\n",
       "      <th>Fare</th>\n",
       "      <th>Name</th>\n",
       "      <th>Parch</th>\n",
       "      <th>PassengerId</th>\n",
       "      <th>Pclass</th>\n",
       "      <th>Sex</th>\n",
       "      <th>SibSp</th>\n",
       "      <th>Survived</th>\n",
       "      <th>Ticket</th>\n",
       "      <th>Title</th>\n",
       "    </tr>\n",
       "  </thead>\n",
       "  <tbody>\n",
       "    <tr>\n",
       "      <th>0</th>\n",
       "      <td>22.0</td>\n",
       "      <td>NaN</td>\n",
       "      <td>S</td>\n",
       "      <td>7.2500</td>\n",
       "      <td>Braund, Mr. Owen Harris</td>\n",
       "      <td>0</td>\n",
       "      <td>1</td>\n",
       "      <td>3</td>\n",
       "      <td>male</td>\n",
       "      <td>1</td>\n",
       "      <td>0.0</td>\n",
       "      <td>A/5 21171</td>\n",
       "      <td>Mr.</td>\n",
       "    </tr>\n",
       "    <tr>\n",
       "      <th>1</th>\n",
       "      <td>38.0</td>\n",
       "      <td>C85</td>\n",
       "      <td>C</td>\n",
       "      <td>71.2833</td>\n",
       "      <td>Cumings, Mrs. John Bradley (Florence Briggs Th...</td>\n",
       "      <td>0</td>\n",
       "      <td>2</td>\n",
       "      <td>1</td>\n",
       "      <td>female</td>\n",
       "      <td>1</td>\n",
       "      <td>1.0</td>\n",
       "      <td>PC 17599</td>\n",
       "      <td>Mrs.</td>\n",
       "    </tr>\n",
       "    <tr>\n",
       "      <th>2</th>\n",
       "      <td>26.0</td>\n",
       "      <td>NaN</td>\n",
       "      <td>S</td>\n",
       "      <td>7.9250</td>\n",
       "      <td>Heikkinen, Miss. Laina</td>\n",
       "      <td>0</td>\n",
       "      <td>3</td>\n",
       "      <td>3</td>\n",
       "      <td>female</td>\n",
       "      <td>0</td>\n",
       "      <td>1.0</td>\n",
       "      <td>STON/O2. 3101282</td>\n",
       "      <td>Miss.</td>\n",
       "    </tr>\n",
       "    <tr>\n",
       "      <th>3</th>\n",
       "      <td>35.0</td>\n",
       "      <td>C123</td>\n",
       "      <td>S</td>\n",
       "      <td>53.1000</td>\n",
       "      <td>Futrelle, Mrs. Jacques Heath (Lily May Peel)</td>\n",
       "      <td>0</td>\n",
       "      <td>4</td>\n",
       "      <td>1</td>\n",
       "      <td>female</td>\n",
       "      <td>1</td>\n",
       "      <td>1.0</td>\n",
       "      <td>113803</td>\n",
       "      <td>Mrs.</td>\n",
       "    </tr>\n",
       "    <tr>\n",
       "      <th>4</th>\n",
       "      <td>35.0</td>\n",
       "      <td>NaN</td>\n",
       "      <td>S</td>\n",
       "      <td>8.0500</td>\n",
       "      <td>Allen, Mr. William Henry</td>\n",
       "      <td>0</td>\n",
       "      <td>5</td>\n",
       "      <td>3</td>\n",
       "      <td>male</td>\n",
       "      <td>0</td>\n",
       "      <td>0.0</td>\n",
       "      <td>373450</td>\n",
       "      <td>Mr.</td>\n",
       "    </tr>\n",
       "  </tbody>\n",
       "</table>\n",
       "</div>"
      ],
      "text/plain": [
       "    Age Cabin Embarked     Fare  \\\n",
       "0  22.0   NaN        S   7.2500   \n",
       "1  38.0   C85        C  71.2833   \n",
       "2  26.0   NaN        S   7.9250   \n",
       "3  35.0  C123        S  53.1000   \n",
       "4  35.0   NaN        S   8.0500   \n",
       "\n",
       "                                                Name  Parch  PassengerId  \\\n",
       "0                            Braund, Mr. Owen Harris      0            1   \n",
       "1  Cumings, Mrs. John Bradley (Florence Briggs Th...      0            2   \n",
       "2                             Heikkinen, Miss. Laina      0            3   \n",
       "3       Futrelle, Mrs. Jacques Heath (Lily May Peel)      0            4   \n",
       "4                           Allen, Mr. William Henry      0            5   \n",
       "\n",
       "  Pclass     Sex  SibSp  Survived            Ticket  Title  \n",
       "0      3    male      1       0.0         A/5 21171    Mr.  \n",
       "1      1  female      1       1.0          PC 17599   Mrs.  \n",
       "2      3  female      0       1.0  STON/O2. 3101282  Miss.  \n",
       "3      1  female      1       1.0            113803   Mrs.  \n",
       "4      3    male      0       0.0            373450    Mr.  "
      ]
     },
     "execution_count": 11,
     "metadata": {},
     "output_type": "execute_result"
    }
   ],
   "source": [
    "# list of all personal titles in our data set\n",
    "titles = [\"Jonkheer.\", \"Countess.\",\"Lady.\",\"Sir.\",\"Dona.\", \"Mme.\", \"Master.\", \n",
    "          \"Rev.\", \"Don.\", \"Dr.\", \"Major.\", \"Col.\", \"Capt.\", \"Mr.\", \"Mrs.\", \n",
    "          \"Miss.\", \"Ms.\", \"Mlle.\"]\n",
    "# calling .apply() with the argument axis=1 will apply the lambda function\n",
    "# argument to each row of the column. The variable x in the lambda represents a \n",
    "# row. The funcion extract_title is defined above in our function definitions\n",
    "# cell. We'll save this as a new feature on our DataFrame called 'Title'\n",
    "data['Title'] = data.apply(lambda x:\n",
    "                                extract_title(x[feature_name], titles), axis=1)\n",
    "# verifying\n",
    "data.head()"
   ]
  },
  {
   "cell_type": "markdown",
   "metadata": {},
   "source": [
    "There is probably more value we can etract from the name feature. There are probably many families among our passengers that most likely share last names. If we extract the last name of each passenger it may be useful for identifying family structures.  "
   ]
  },
  {
   "cell_type": "code",
   "execution_count": 12,
   "metadata": {},
   "outputs": [
    {
     "data": {
      "text/html": [
       "<div>\n",
       "<style scoped>\n",
       "    .dataframe tbody tr th:only-of-type {\n",
       "        vertical-align: middle;\n",
       "    }\n",
       "\n",
       "    .dataframe tbody tr th {\n",
       "        vertical-align: top;\n",
       "    }\n",
       "\n",
       "    .dataframe thead th {\n",
       "        text-align: right;\n",
       "    }\n",
       "</style>\n",
       "<table border=\"1\" class=\"dataframe\">\n",
       "  <thead>\n",
       "    <tr style=\"text-align: right;\">\n",
       "      <th></th>\n",
       "      <th>Age</th>\n",
       "      <th>Cabin</th>\n",
       "      <th>Embarked</th>\n",
       "      <th>Fare</th>\n",
       "      <th>Name</th>\n",
       "      <th>Parch</th>\n",
       "      <th>PassengerId</th>\n",
       "      <th>Pclass</th>\n",
       "      <th>Sex</th>\n",
       "      <th>SibSp</th>\n",
       "      <th>Survived</th>\n",
       "      <th>Ticket</th>\n",
       "      <th>Title</th>\n",
       "      <th>LastName</th>\n",
       "    </tr>\n",
       "  </thead>\n",
       "  <tbody>\n",
       "    <tr>\n",
       "      <th>0</th>\n",
       "      <td>22.0</td>\n",
       "      <td>NaN</td>\n",
       "      <td>S</td>\n",
       "      <td>7.2500</td>\n",
       "      <td>Braund, Mr. Owen Harris</td>\n",
       "      <td>0</td>\n",
       "      <td>1</td>\n",
       "      <td>3</td>\n",
       "      <td>male</td>\n",
       "      <td>1</td>\n",
       "      <td>0.0</td>\n",
       "      <td>A/5 21171</td>\n",
       "      <td>Mr.</td>\n",
       "      <td>Braund</td>\n",
       "    </tr>\n",
       "    <tr>\n",
       "      <th>1</th>\n",
       "      <td>38.0</td>\n",
       "      <td>C85</td>\n",
       "      <td>C</td>\n",
       "      <td>71.2833</td>\n",
       "      <td>Cumings, Mrs. John Bradley (Florence Briggs Th...</td>\n",
       "      <td>0</td>\n",
       "      <td>2</td>\n",
       "      <td>1</td>\n",
       "      <td>female</td>\n",
       "      <td>1</td>\n",
       "      <td>1.0</td>\n",
       "      <td>PC 17599</td>\n",
       "      <td>Mrs.</td>\n",
       "      <td>Cumings</td>\n",
       "    </tr>\n",
       "    <tr>\n",
       "      <th>2</th>\n",
       "      <td>26.0</td>\n",
       "      <td>NaN</td>\n",
       "      <td>S</td>\n",
       "      <td>7.9250</td>\n",
       "      <td>Heikkinen, Miss. Laina</td>\n",
       "      <td>0</td>\n",
       "      <td>3</td>\n",
       "      <td>3</td>\n",
       "      <td>female</td>\n",
       "      <td>0</td>\n",
       "      <td>1.0</td>\n",
       "      <td>STON/O2. 3101282</td>\n",
       "      <td>Miss.</td>\n",
       "      <td>Heikkinen</td>\n",
       "    </tr>\n",
       "    <tr>\n",
       "      <th>3</th>\n",
       "      <td>35.0</td>\n",
       "      <td>C123</td>\n",
       "      <td>S</td>\n",
       "      <td>53.1000</td>\n",
       "      <td>Futrelle, Mrs. Jacques Heath (Lily May Peel)</td>\n",
       "      <td>0</td>\n",
       "      <td>4</td>\n",
       "      <td>1</td>\n",
       "      <td>female</td>\n",
       "      <td>1</td>\n",
       "      <td>1.0</td>\n",
       "      <td>113803</td>\n",
       "      <td>Mrs.</td>\n",
       "      <td>Futrelle</td>\n",
       "    </tr>\n",
       "    <tr>\n",
       "      <th>4</th>\n",
       "      <td>35.0</td>\n",
       "      <td>NaN</td>\n",
       "      <td>S</td>\n",
       "      <td>8.0500</td>\n",
       "      <td>Allen, Mr. William Henry</td>\n",
       "      <td>0</td>\n",
       "      <td>5</td>\n",
       "      <td>3</td>\n",
       "      <td>male</td>\n",
       "      <td>0</td>\n",
       "      <td>0.0</td>\n",
       "      <td>373450</td>\n",
       "      <td>Mr.</td>\n",
       "      <td>Allen</td>\n",
       "    </tr>\n",
       "  </tbody>\n",
       "</table>\n",
       "</div>"
      ],
      "text/plain": [
       "    Age Cabin Embarked     Fare  \\\n",
       "0  22.0   NaN        S   7.2500   \n",
       "1  38.0   C85        C  71.2833   \n",
       "2  26.0   NaN        S   7.9250   \n",
       "3  35.0  C123        S  53.1000   \n",
       "4  35.0   NaN        S   8.0500   \n",
       "\n",
       "                                                Name  Parch  PassengerId  \\\n",
       "0                            Braund, Mr. Owen Harris      0            1   \n",
       "1  Cumings, Mrs. John Bradley (Florence Briggs Th...      0            2   \n",
       "2                             Heikkinen, Miss. Laina      0            3   \n",
       "3       Futrelle, Mrs. Jacques Heath (Lily May Peel)      0            4   \n",
       "4                           Allen, Mr. William Henry      0            5   \n",
       "\n",
       "  Pclass     Sex  SibSp  Survived            Ticket  Title   LastName  \n",
       "0      3    male      1       0.0         A/5 21171    Mr.     Braund  \n",
       "1      1  female      1       1.0          PC 17599   Mrs.    Cumings  \n",
       "2      3  female      0       1.0  STON/O2. 3101282  Miss.  Heikkinen  \n",
       "3      1  female      1       1.0            113803   Mrs.   Futrelle  \n",
       "4      3    male      0       0.0            373450    Mr.      Allen  "
      ]
     },
     "execution_count": 12,
     "metadata": {},
     "output_type": "execute_result"
    }
   ],
   "source": [
    "# this apply call is very similar to the previous. extract_last_name is \n",
    "# also defined above in our function definitions cell. We'll save this as a \n",
    "# new feature on our DataFrame called 'LastName'\n",
    "data['LastName'] = data.apply(lambda x:\n",
    "                                extract_last_name(x[feature_name]), axis=1)\n",
    "# verifying\n",
    "data.head()"
   ]
  },
  {
   "cell_type": "code",
   "execution_count": 13,
   "metadata": {},
   "outputs": [
    {
     "data": {
      "text/html": [
       "<div>\n",
       "<style scoped>\n",
       "    .dataframe tbody tr th:only-of-type {\n",
       "        vertical-align: middle;\n",
       "    }\n",
       "\n",
       "    .dataframe tbody tr th {\n",
       "        vertical-align: top;\n",
       "    }\n",
       "\n",
       "    .dataframe thead th {\n",
       "        text-align: right;\n",
       "    }\n",
       "</style>\n",
       "<table border=\"1\" class=\"dataframe\">\n",
       "  <thead>\n",
       "    <tr style=\"text-align: right;\">\n",
       "      <th></th>\n",
       "      <th>LastName</th>\n",
       "    </tr>\n",
       "  </thead>\n",
       "  <tbody>\n",
       "    <tr>\n",
       "      <th>count</th>\n",
       "      <td>1309</td>\n",
       "    </tr>\n",
       "    <tr>\n",
       "      <th>unique</th>\n",
       "      <td>875</td>\n",
       "    </tr>\n",
       "    <tr>\n",
       "      <th>top</th>\n",
       "      <td>Sage</td>\n",
       "    </tr>\n",
       "    <tr>\n",
       "      <th>freq</th>\n",
       "      <td>11</td>\n",
       "    </tr>\n",
       "  </tbody>\n",
       "</table>\n",
       "</div>"
      ],
      "text/plain": [
       "       LastName\n",
       "count      1309\n",
       "unique      875\n",
       "top        Sage\n",
       "freq         11"
      ]
     },
     "execution_count": 13,
     "metadata": {},
     "output_type": "execute_result"
    }
   ],
   "source": [
    "data[['LastName']].describe()"
   ]
  },
  {
   "cell_type": "markdown",
   "metadata": {},
   "source": [
    "I want to look for names and create a feature based\n",
    "on the percent mortality rate of that family in the training data."
   ]
  },
  {
   "cell_type": "code",
   "execution_count": 14,
   "metadata": {},
   "outputs": [
    {
     "data": {
      "text/html": [
       "<div>\n",
       "<style scoped>\n",
       "    .dataframe tbody tr th:only-of-type {\n",
       "        vertical-align: middle;\n",
       "    }\n",
       "\n",
       "    .dataframe tbody tr th {\n",
       "        vertical-align: top;\n",
       "    }\n",
       "\n",
       "    .dataframe thead th {\n",
       "        text-align: right;\n",
       "    }\n",
       "</style>\n",
       "<table border=\"1\" class=\"dataframe\">\n",
       "  <thead>\n",
       "    <tr style=\"text-align: right;\">\n",
       "      <th></th>\n",
       "      <th>Age</th>\n",
       "      <th>Cabin</th>\n",
       "      <th>Embarked</th>\n",
       "      <th>Fare</th>\n",
       "      <th>Name</th>\n",
       "      <th>Parch</th>\n",
       "      <th>PassengerId</th>\n",
       "      <th>Pclass</th>\n",
       "      <th>Sex</th>\n",
       "      <th>SibSp</th>\n",
       "      <th>Survived</th>\n",
       "      <th>Ticket</th>\n",
       "      <th>Title</th>\n",
       "      <th>LastName</th>\n",
       "      <th>FamMort</th>\n",
       "    </tr>\n",
       "  </thead>\n",
       "  <tbody>\n",
       "    <tr>\n",
       "      <th>0</th>\n",
       "      <td>22.0</td>\n",
       "      <td>NaN</td>\n",
       "      <td>S</td>\n",
       "      <td>7.2500</td>\n",
       "      <td>Braund, Mr. Owen Harris</td>\n",
       "      <td>0</td>\n",
       "      <td>1</td>\n",
       "      <td>3</td>\n",
       "      <td>male</td>\n",
       "      <td>1</td>\n",
       "      <td>0.0</td>\n",
       "      <td>A/5 21171</td>\n",
       "      <td>Mr.</td>\n",
       "      <td>Braund</td>\n",
       "      <td>-1.0</td>\n",
       "    </tr>\n",
       "    <tr>\n",
       "      <th>1</th>\n",
       "      <td>38.0</td>\n",
       "      <td>C85</td>\n",
       "      <td>C</td>\n",
       "      <td>71.2833</td>\n",
       "      <td>Cumings, Mrs. John Bradley (Florence Briggs Th...</td>\n",
       "      <td>0</td>\n",
       "      <td>2</td>\n",
       "      <td>1</td>\n",
       "      <td>female</td>\n",
       "      <td>1</td>\n",
       "      <td>1.0</td>\n",
       "      <td>PC 17599</td>\n",
       "      <td>Mrs.</td>\n",
       "      <td>Cumings</td>\n",
       "      <td>-1.0</td>\n",
       "    </tr>\n",
       "    <tr>\n",
       "      <th>2</th>\n",
       "      <td>26.0</td>\n",
       "      <td>NaN</td>\n",
       "      <td>S</td>\n",
       "      <td>7.9250</td>\n",
       "      <td>Heikkinen, Miss. Laina</td>\n",
       "      <td>0</td>\n",
       "      <td>3</td>\n",
       "      <td>3</td>\n",
       "      <td>female</td>\n",
       "      <td>0</td>\n",
       "      <td>1.0</td>\n",
       "      <td>STON/O2. 3101282</td>\n",
       "      <td>Miss.</td>\n",
       "      <td>Heikkinen</td>\n",
       "      <td>-1.0</td>\n",
       "    </tr>\n",
       "    <tr>\n",
       "      <th>3</th>\n",
       "      <td>35.0</td>\n",
       "      <td>C123</td>\n",
       "      <td>S</td>\n",
       "      <td>53.1000</td>\n",
       "      <td>Futrelle, Mrs. Jacques Heath (Lily May Peel)</td>\n",
       "      <td>0</td>\n",
       "      <td>4</td>\n",
       "      <td>1</td>\n",
       "      <td>female</td>\n",
       "      <td>1</td>\n",
       "      <td>1.0</td>\n",
       "      <td>113803</td>\n",
       "      <td>Mrs.</td>\n",
       "      <td>Futrelle</td>\n",
       "      <td>-1.0</td>\n",
       "    </tr>\n",
       "    <tr>\n",
       "      <th>4</th>\n",
       "      <td>35.0</td>\n",
       "      <td>NaN</td>\n",
       "      <td>S</td>\n",
       "      <td>8.0500</td>\n",
       "      <td>Allen, Mr. William Henry</td>\n",
       "      <td>0</td>\n",
       "      <td>5</td>\n",
       "      <td>3</td>\n",
       "      <td>male</td>\n",
       "      <td>0</td>\n",
       "      <td>0.0</td>\n",
       "      <td>373450</td>\n",
       "      <td>Mr.</td>\n",
       "      <td>Allen</td>\n",
       "      <td>-1.0</td>\n",
       "    </tr>\n",
       "  </tbody>\n",
       "</table>\n",
       "</div>"
      ],
      "text/plain": [
       "    Age Cabin Embarked     Fare  \\\n",
       "0  22.0   NaN        S   7.2500   \n",
       "1  38.0   C85        C  71.2833   \n",
       "2  26.0   NaN        S   7.9250   \n",
       "3  35.0  C123        S  53.1000   \n",
       "4  35.0   NaN        S   8.0500   \n",
       "\n",
       "                                                Name  Parch  PassengerId  \\\n",
       "0                            Braund, Mr. Owen Harris      0            1   \n",
       "1  Cumings, Mrs. John Bradley (Florence Briggs Th...      0            2   \n",
       "2                             Heikkinen, Miss. Laina      0            3   \n",
       "3       Futrelle, Mrs. Jacques Heath (Lily May Peel)      0            4   \n",
       "4                           Allen, Mr. William Henry      0            5   \n",
       "\n",
       "  Pclass     Sex  SibSp  Survived            Ticket  Title   LastName FamMort  \n",
       "0      3    male      1       0.0         A/5 21171    Mr.     Braund    -1.0  \n",
       "1      1  female      1       1.0          PC 17599   Mrs.    Cumings    -1.0  \n",
       "2      3  female      0       1.0  STON/O2. 3101282  Miss.  Heikkinen    -1.0  \n",
       "3      1  female      1       1.0            113803   Mrs.   Futrelle    -1.0  \n",
       "4      3    male      0       0.0            373450    Mr.      Allen    -1.0  "
      ]
     },
     "execution_count": 14,
     "metadata": {},
     "output_type": "execute_result"
    }
   ],
   "source": [
    "# this apply call is very similar to the previous. get_fam_mort is \n",
    "# also defined above in our function definitions cell. We'll save this as a \n",
    "# new feature on our DataFrame called 'FamMort'\n",
    "data['FamMort'] = data.apply(lambda x:\n",
    "                        get_fam_mort(x['LastName'], \n",
    "                        data[~data[\"Survived\"].isna()], \n",
    "                        x),\n",
    "                        axis=1)\n",
    "# Individuals that are likely single passengers are encoded as '-1.0', all\n",
    "# others are encoded as the percentage of likely family members in the \n",
    "# training data that perished. We don't want the '-1.0' to have numeric \n",
    "# meaning so we're setting this column as a category.\n",
    "data['FamMort'] = data['FamMort'].astype('category')\n",
    "\n",
    "# verifying\n",
    "data.head()"
   ]
  },
  {
   "cell_type": "markdown",
   "metadata": {},
   "source": [
    "Now that we've created some features let's analyze them with plots. We'll make an interaction plot for the 'Title' feature."
   ]
  },
  {
   "cell_type": "code",
   "execution_count": 15,
   "metadata": {},
   "outputs": [
    {
     "data": {
      "image/png": "[encoded data removed]",
      "text/plain": [
       "<Figure size 412x360 with 1 Axes>"
      ]
     },
     "metadata": {
      "needs_background": "light"
     },
     "output_type": "display_data"
    }
   ],
   "source": [
    "interaction_plot(\"Survived\", 'Title', data)"
   ]
  },
  {
   "cell_type": "markdown",
   "metadata": {},
   "source": [
    "Observation: Many of the more specialized titles such as 'Countess', 'Lady', 'Mlle', 'Ms', and 'Sir' only show observations that survived. These titles are mostly women and/or upper class titles. All 'Capt', 'Don', and 'Rev' observations perished. 'Mr' is largely the most common and fatal title. </br>Next, we'll make a box and whisker plot for the feature 'FamMort'."
   ]
  },
  {
   "cell_type": "code",
   "execution_count": 16,
   "metadata": {},
   "outputs": [
    {
     "data": {
      "image/png": "[encoded data removed]",
      "text/plain": [
       "<Figure size 432x288 with 1 Axes>"
      ]
     },
     "metadata": {
      "needs_background": "light"
     },
     "output_type": "display_data"
    }
   ],
   "source": [
    "box_plot(\"FamMort\",\"Survived\", data)"
   ]
  },
  {
   "cell_type": "markdown",
   "metadata": {},
   "source": [
    "Observation: The '-1.0' values have a fairly even mix of Survived and Perished observations. Almost all individuals with 0.0% percent FamMort survived but there are some outliers (the dot). Then as FamMort gets closer to 100.0% the pattern reverses. Non '-1.0' categories appear to be negatively correlated with survival."
   ]
  },
  {
   "cell_type": "code",
   "execution_count": 17,
   "metadata": {},
   "outputs": [
    {
     "data": {
      "text/html": [
       "<div>\n",
       "<style scoped>\n",
       "    .dataframe tbody tr th:only-of-type {\n",
       "        vertical-align: middle;\n",
       "    }\n",
       "\n",
       "    .dataframe tbody tr th {\n",
       "        vertical-align: top;\n",
       "    }\n",
       "\n",
       "    .dataframe thead th {\n",
       "        text-align: right;\n",
       "    }\n",
       "</style>\n",
       "<table border=\"1\" class=\"dataframe\">\n",
       "  <thead>\n",
       "    <tr style=\"text-align: right;\">\n",
       "      <th></th>\n",
       "      <th>FamMort</th>\n",
       "    </tr>\n",
       "  </thead>\n",
       "  <tbody>\n",
       "    <tr>\n",
       "      <th>count</th>\n",
       "      <td>1309.0</td>\n",
       "    </tr>\n",
       "    <tr>\n",
       "      <th>unique</th>\n",
       "      <td>8.0</td>\n",
       "    </tr>\n",
       "    <tr>\n",
       "      <th>top</th>\n",
       "      <td>-1.0</td>\n",
       "    </tr>\n",
       "    <tr>\n",
       "      <th>freq</th>\n",
       "      <td>1073.0</td>\n",
       "    </tr>\n",
       "  </tbody>\n",
       "</table>\n",
       "</div>"
      ],
      "text/plain": [
       "        FamMort\n",
       "count    1309.0\n",
       "unique      8.0\n",
       "top        -1.0\n",
       "freq     1073.0"
      ]
     },
     "execution_count": 17,
     "metadata": {},
     "output_type": "execute_result"
    }
   ],
   "source": [
    "data[['FamMort']].describe()"
   ]
  },
  {
   "cell_type": "markdown",
   "metadata": {},
   "source": [
    "Most of the training data consists of individual passengers. Therefore this feaure may not be the most significant but should help with edge cases. "
   ]
  },
  {
   "cell_type": "markdown",
   "metadata": {},
   "source": [
    "## Age /Continuous"
   ]
  },
  {
   "cell_type": "code",
   "execution_count": 18,
   "metadata": {},
   "outputs": [
    {
     "data": {
      "text/plain": [
       "263"
      ]
     },
     "execution_count": 18,
     "metadata": {},
     "output_type": "execute_result"
    }
   ],
   "source": [
    "# setting the feature name we're examining so that we don't have to re-type it\n",
    "feature_name = \"Age\"\n",
    "# Checking for missing values\n",
    "data[feature_name].isnull().sum()"
   ]
  },
  {
   "cell_type": "markdown",
   "metadata": {},
   "source": [
    "There are 263 missing values. The most basic way of handling these is to impute the mean or median Age. A more intermediate method of handling these is to impute the value based on a relationship with another feature. We'll first check to see if Age is correllated to any of the other numeric features."
   ]
  },
  {
   "cell_type": "code",
   "execution_count": 19,
   "metadata": {},
   "outputs": [
    {
     "data": {
      "text/plain": [
       "<matplotlib.axes._subplots.AxesSubplot at 0x1d1c2d67788>"
      ]
     },
     "execution_count": 19,
     "metadata": {},
     "output_type": "execute_result"
    },
    {
     "data": {
      "image/png": "[encoded data removed]",
      "text/plain": [
       "<Figure size 720x576 with 2 Axes>"
      ]
     },
     "metadata": {
      "needs_background": "light"
     },
     "output_type": "display_data"
    }
   ],
   "source": [
    "correlation_matrix = data.corr().round(2)\n",
    "plt.figure(figsize=(10,8))\n",
    "sb.heatmap(data=correlation_matrix, annot=True, center=0.0, cmap='coolwarm')"
   ]
  },
  {
   "cell_type": "markdown",
   "metadata": {},
   "source": [
    "The most highly correlated numeric feature is SibSp. However this is not a strong enough relationship to base an imputation on. Next we can look at relationships between Age and the other categorical features."
   ]
  },
  {
   "cell_type": "code",
   "execution_count": 21,
   "metadata": {},
   "outputs": [
    {
     "data": {
      "image/png": "[encoded data removed]",
      "text/plain": [
       "<Figure size 432x288 with 1 Axes>"
      ]
     },
     "metadata": {
      "needs_background": "light"
     },
     "output_type": "display_data"
    }
   ],
   "source": [
    "box_plot(\"Pclass\",\"Age\", data)"
   ]
  },
  {
   "cell_type": "markdown",
   "metadata": {},
   "source": [
    "The most meaningful realtionship among these is between Age and class. We're seeing variation among the means of each class that suggests a trend. We can take the mean value of each class and impute that for our missing Age values based on the missing row's Pclass."
   ]
  },
  {
   "cell_type": "code",
   "execution_count": 21,
   "metadata": {},
   "outputs": [],
   "source": [
    "# The impute_age_by_class function is defined above in our function\n",
    "# definitons. \n",
    "data[feature_name] = data.apply(lambda x: impute_age_by_class(x['Pclass'], \n",
    "                                                data,\n",
    "                                                x), axis = 1)"
   ]
  },
  {
   "cell_type": "code",
   "execution_count": 23,
   "metadata": {},
   "outputs": [
    {
     "data": {
      "text/plain": [
       "0"
      ]
     },
     "execution_count": 23,
     "metadata": {},
     "output_type": "execute_result"
    }
   ],
   "source": [
    "# Now verifying that there are no more null values\n",
    "data[feature_name].isnull().sum()"
   ]
  },
  {
   "cell_type": "code",
   "execution_count": 24,
   "metadata": {},
   "outputs": [
    {
     "data": {
      "text/plain": [
       "Text(0, 0.5, 'Frequency')"
      ]
     },
     "execution_count": 24,
     "metadata": {},
     "output_type": "execute_result"
    },
    {
     "data": {
      "image/png": "[encoded data removed]",
      "text/plain": [
       "<Figure size 432x288 with 1 Axes>"
      ]
     },
     "metadata": {
      "needs_background": "light"
     },
     "output_type": "display_data"
    }
   ],
   "source": [
    "# Next we'll graph the distribution to check for skewness.\n",
    "x = data[feature_name]\n",
    "plt.hist(x, bins=25)\n",
    "plt.xlabel('age')\n",
    "plt.ylabel('Frequency')"
   ]
  },
  {
   "cell_type": "markdown",
   "metadata": {},
   "source": [
    "Observation: Looks fairly normal. Not really skewed enough to justify any transformations.\n",
    "</br>Next we'll min-max scale our numeric variable. We're going to do this to every nuemric variable so that they're all scaled the same.\n",
    "</br>Min-max scaling is calculated the same in this reference, which also describes why feature scaling is important: https://en.wikipedia.org/wiki/Feature_scaling\n",
    "</br>The min_max function is defined above in the function definitions cell."
   ]
  },
  {
   "cell_type": "code",
   "execution_count": 26,
   "metadata": {},
   "outputs": [
    {
     "data": {
      "text/html": [
       "<div>\n",
       "<style scoped>\n",
       "    .dataframe tbody tr th:only-of-type {\n",
       "        vertical-align: middle;\n",
       "    }\n",
       "\n",
       "    .dataframe tbody tr th {\n",
       "        vertical-align: top;\n",
       "    }\n",
       "\n",
       "    .dataframe thead th {\n",
       "        text-align: right;\n",
       "    }\n",
       "</style>\n",
       "<table border=\"1\" class=\"dataframe\">\n",
       "  <thead>\n",
       "    <tr style=\"text-align: right;\">\n",
       "      <th></th>\n",
       "      <th>Age</th>\n",
       "      <th>Cabin</th>\n",
       "      <th>Embarked</th>\n",
       "      <th>Fare</th>\n",
       "      <th>Name</th>\n",
       "      <th>Parch</th>\n",
       "      <th>PassengerId</th>\n",
       "      <th>Pclass</th>\n",
       "      <th>Sex</th>\n",
       "      <th>SibSp</th>\n",
       "      <th>Survived</th>\n",
       "      <th>Ticket</th>\n",
       "      <th>Title</th>\n",
       "      <th>LastName</th>\n",
       "      <th>FamMort</th>\n",
       "      <th>Age_scaled</th>\n",
       "    </tr>\n",
       "  </thead>\n",
       "  <tbody>\n",
       "    <tr>\n",
       "      <th>0</th>\n",
       "      <td>22.0</td>\n",
       "      <td>NaN</td>\n",
       "      <td>S</td>\n",
       "      <td>7.2500</td>\n",
       "      <td>Braund, Mr. Owen Harris</td>\n",
       "      <td>0</td>\n",
       "      <td>1</td>\n",
       "      <td>3</td>\n",
       "      <td>male</td>\n",
       "      <td>1</td>\n",
       "      <td>0.0</td>\n",
       "      <td>A/5 21171</td>\n",
       "      <td>Mr.</td>\n",
       "      <td>Braund</td>\n",
       "      <td>-1.0</td>\n",
       "      <td>0.273456</td>\n",
       "    </tr>\n",
       "    <tr>\n",
       "      <th>1</th>\n",
       "      <td>38.0</td>\n",
       "      <td>C85</td>\n",
       "      <td>C</td>\n",
       "      <td>71.2833</td>\n",
       "      <td>Cumings, Mrs. John Bradley (Florence Briggs Th...</td>\n",
       "      <td>0</td>\n",
       "      <td>2</td>\n",
       "      <td>1</td>\n",
       "      <td>female</td>\n",
       "      <td>1</td>\n",
       "      <td>1.0</td>\n",
       "      <td>PC 17599</td>\n",
       "      <td>Mrs.</td>\n",
       "      <td>Cumings</td>\n",
       "      <td>-1.0</td>\n",
       "      <td>0.473882</td>\n",
       "    </tr>\n",
       "    <tr>\n",
       "      <th>2</th>\n",
       "      <td>26.0</td>\n",
       "      <td>NaN</td>\n",
       "      <td>S</td>\n",
       "      <td>7.9250</td>\n",
       "      <td>Heikkinen, Miss. Laina</td>\n",
       "      <td>0</td>\n",
       "      <td>3</td>\n",
       "      <td>3</td>\n",
       "      <td>female</td>\n",
       "      <td>0</td>\n",
       "      <td>1.0</td>\n",
       "      <td>STON/O2. 3101282</td>\n",
       "      <td>Miss.</td>\n",
       "      <td>Heikkinen</td>\n",
       "      <td>-1.0</td>\n",
       "      <td>0.323563</td>\n",
       "    </tr>\n",
       "    <tr>\n",
       "      <th>3</th>\n",
       "      <td>35.0</td>\n",
       "      <td>C123</td>\n",
       "      <td>S</td>\n",
       "      <td>53.1000</td>\n",
       "      <td>Futrelle, Mrs. Jacques Heath (Lily May Peel)</td>\n",
       "      <td>0</td>\n",
       "      <td>4</td>\n",
       "      <td>1</td>\n",
       "      <td>female</td>\n",
       "      <td>1</td>\n",
       "      <td>1.0</td>\n",
       "      <td>113803</td>\n",
       "      <td>Mrs.</td>\n",
       "      <td>Futrelle</td>\n",
       "      <td>-1.0</td>\n",
       "      <td>0.436302</td>\n",
       "    </tr>\n",
       "    <tr>\n",
       "      <th>4</th>\n",
       "      <td>35.0</td>\n",
       "      <td>NaN</td>\n",
       "      <td>S</td>\n",
       "      <td>8.0500</td>\n",
       "      <td>Allen, Mr. William Henry</td>\n",
       "      <td>0</td>\n",
       "      <td>5</td>\n",
       "      <td>3</td>\n",
       "      <td>male</td>\n",
       "      <td>0</td>\n",
       "      <td>0.0</td>\n",
       "      <td>373450</td>\n",
       "      <td>Mr.</td>\n",
       "      <td>Allen</td>\n",
       "      <td>-1.0</td>\n",
       "      <td>0.436302</td>\n",
       "    </tr>\n",
       "  </tbody>\n",
       "</table>\n",
       "</div>"
      ],
      "text/plain": [
       "    Age Cabin Embarked     Fare  \\\n",
       "0  22.0   NaN        S   7.2500   \n",
       "1  38.0   C85        C  71.2833   \n",
       "2  26.0   NaN        S   7.9250   \n",
       "3  35.0  C123        S  53.1000   \n",
       "4  35.0   NaN        S   8.0500   \n",
       "\n",
       "                                                Name  Parch  PassengerId  \\\n",
       "0                            Braund, Mr. Owen Harris      0            1   \n",
       "1  Cumings, Mrs. John Bradley (Florence Briggs Th...      0            2   \n",
       "2                             Heikkinen, Miss. Laina      0            3   \n",
       "3       Futrelle, Mrs. Jacques Heath (Lily May Peel)      0            4   \n",
       "4                           Allen, Mr. William Henry      0            5   \n",
       "\n",
       "  Pclass     Sex  SibSp  Survived            Ticket  Title   LastName FamMort  \\\n",
       "0      3    male      1       0.0         A/5 21171    Mr.     Braund    -1.0   \n",
       "1      1  female      1       1.0          PC 17599   Mrs.    Cumings    -1.0   \n",
       "2      3  female      0       1.0  STON/O2. 3101282  Miss.  Heikkinen    -1.0   \n",
       "3      1  female      1       1.0            113803   Mrs.   Futrelle    -1.0   \n",
       "4      3    male      0       0.0            373450    Mr.      Allen    -1.0   \n",
       "\n",
       "   Age_scaled  \n",
       "0    0.273456  \n",
       "1    0.473882  \n",
       "2    0.323563  \n",
       "3    0.436302  \n",
       "4    0.436302  "
      ]
     },
     "execution_count": 26,
     "metadata": {},
     "output_type": "execute_result"
    }
   ],
   "source": [
    "new_feat = f'{feature_name}_scaled'\n",
    "data[new_feat] = min_max(feature_name, data)\n",
    "data.head()"
   ]
  },
  {
   "cell_type": "code",
   "execution_count": 38,
   "metadata": {},
   "outputs": [
    {
     "data": {
      "image/png": "[encoded data removed]",
      "text/plain": [
       "<Figure size 432x288 with 1 Axes>"
      ]
     },
     "metadata": {
      "needs_background": "light"
     },
     "output_type": "display_data"
    }
   ],
   "source": [
    "# Next we'll make a box plot to get an idea of how significant the feature\n",
    "# will be for predicting survival.\n",
    "box_plot(\"Survived\",\"Age_scaled\", data)"
   ]
  },
  {
   "cell_type": "markdown",
   "metadata": {},
   "source": [
    "Observation: Probably not that significant. The means and first and thrid quartiles are all very similar to eachother across both groups."
   ]
  },
  {
   "cell_type": "markdown",
   "metadata": {},
   "source": [
    "## Fare / Continuous"
   ]
  },
  {
   "cell_type": "code",
   "execution_count": 27,
   "metadata": {},
   "outputs": [
    {
     "data": {
      "text/plain": [
       "1"
      ]
     },
     "execution_count": 27,
     "metadata": {},
     "output_type": "execute_result"
    }
   ],
   "source": [
    "# setting the feature name we're examining so that we don't have to re-type it\n",
    "feature_name = \"Fare\"\n",
    "# Checking for missing valeus\n",
    "data[feature_name].isnull().sum()"
   ]
  },
  {
   "cell_type": "markdown",
   "metadata": {},
   "source": [
    "Observation: There is only one missing value. Let's take a look at that row and see if it looks erroneous."
   ]
  },
  {
   "cell_type": "code",
   "execution_count": 28,
   "metadata": {},
   "outputs": [
    {
     "data": {
      "text/html": [
       "<div>\n",
       "<style scoped>\n",
       "    .dataframe tbody tr th:only-of-type {\n",
       "        vertical-align: middle;\n",
       "    }\n",
       "\n",
       "    .dataframe tbody tr th {\n",
       "        vertical-align: top;\n",
       "    }\n",
       "\n",
       "    .dataframe thead th {\n",
       "        text-align: right;\n",
       "    }\n",
       "</style>\n",
       "<table border=\"1\" class=\"dataframe\">\n",
       "  <thead>\n",
       "    <tr style=\"text-align: right;\">\n",
       "      <th></th>\n",
       "      <th>Age</th>\n",
       "      <th>Cabin</th>\n",
       "      <th>Embarked</th>\n",
       "      <th>Fare</th>\n",
       "      <th>Name</th>\n",
       "      <th>Parch</th>\n",
       "      <th>PassengerId</th>\n",
       "      <th>Pclass</th>\n",
       "      <th>Sex</th>\n",
       "      <th>SibSp</th>\n",
       "      <th>Survived</th>\n",
       "      <th>Ticket</th>\n",
       "      <th>Title</th>\n",
       "      <th>LastName</th>\n",
       "      <th>FamMort</th>\n",
       "      <th>Age_scaled</th>\n",
       "    </tr>\n",
       "  </thead>\n",
       "  <tbody>\n",
       "    <tr>\n",
       "      <th>152</th>\n",
       "      <td>60.5</td>\n",
       "      <td>NaN</td>\n",
       "      <td>S</td>\n",
       "      <td>NaN</td>\n",
       "      <td>Storey, Mr. Thomas</td>\n",
       "      <td>0</td>\n",
       "      <td>1044</td>\n",
       "      <td>3</td>\n",
       "      <td>male</td>\n",
       "      <td>0</td>\n",
       "      <td>NaN</td>\n",
       "      <td>3701</td>\n",
       "      <td>Mr.</td>\n",
       "      <td>Storey</td>\n",
       "      <td>-1.0</td>\n",
       "      <td>0.755731</td>\n",
       "    </tr>\n",
       "  </tbody>\n",
       "</table>\n",
       "</div>"
      ],
      "text/plain": [
       "      Age Cabin Embarked  Fare                Name  Parch  PassengerId Pclass  \\\n",
       "152  60.5   NaN        S   NaN  Storey, Mr. Thomas      0         1044      3   \n",
       "\n",
       "      Sex  SibSp  Survived Ticket Title LastName FamMort  Age_scaled  \n",
       "152  male      0       NaN   3701   Mr.   Storey    -1.0    0.755731  "
      ]
     },
     "execution_count": 28,
     "metadata": {},
     "output_type": "execute_result"
    }
   ],
   "source": [
    "data[data[feature_name].isnull()]"
   ]
  },
  {
   "cell_type": "markdown",
   "metadata": {},
   "source": [
    "This looks fine. We can impute the value based on another variable like we did last time. If we scroll up to our correlation heatmap in the Age section, we can observe that Fare is again not very highly correlated with the other numeric features. Logically, it's most likely that fare is best explained by which Pclass the individual belongs to. Let's check that with a plot."
   ]
  },
  {
   "cell_type": "code",
   "execution_count": 31,
   "metadata": {},
   "outputs": [
    {
     "data": {
      "image/png": "[encoded data removed]",
      "text/plain": [
       "<Figure size 432x288 with 1 Axes>"
      ]
     },
     "metadata": {
      "needs_background": "light"
     },
     "output_type": "display_data"
    }
   ],
   "source": [
    "box_plot(\"Pclass\",\"Fare\", data)"
   ]
  },
  {
   "cell_type": "code",
   "execution_count": 32,
   "metadata": {},
   "outputs": [],
   "source": [
    "# The impute_fare_by_class function is defined above in our function\n",
    "# definitons. It also works the same as the impute_age_by_class function.\n",
    "data[feature_name] = data.apply(lambda x: impute_fare_by_class(x['Pclass'], \n",
    "                                                data,\n",
    "                                                x), axis = 1)"
   ]
  },
  {
   "cell_type": "code",
   "execution_count": 34,
   "metadata": {},
   "outputs": [
    {
     "data": {
      "text/plain": [
       "Text(0, 0.5, 'Frequency')"
      ]
     },
     "execution_count": 34,
     "metadata": {},
     "output_type": "execute_result"
    },
    {
     "data": {
      "image/png": "[encoded data removed]",
      "text/plain": [
       "<Figure size 432x288 with 1 Axes>"
      ]
     },
     "metadata": {
      "needs_background": "light"
     },
     "output_type": "display_data"
    }
   ],
   "source": [
    "# Next we'll graph the distribution to check for skewness.\n",
    "x = data[feature_name]\n",
    "plt.hist(x, bins=25)\n",
    "plt.xlabel('Fare')\n",
    "plt.ylabel('Frequency')"
   ]
  },
  {
   "cell_type": "markdown",
   "metadata": {},
   "source": [
    "Observation: Fare is very right skewed. \n",
    "</br>Skewness is explained in the following reference:</br> https://en.wikipedia.org/wiki/Skewness\n",
    "</br>We should apply the log transformation to this feature to make it more normal."
   ]
  },
  {
   "cell_type": "code",
   "execution_count": 35,
   "metadata": {},
   "outputs": [
    {
     "data": {
      "text/plain": [
       "Text(0, 0.5, 'Frequency')"
      ]
     },
     "execution_count": 35,
     "metadata": {},
     "output_type": "execute_result"
    },
    {
     "data": {
      "image/png": "[encoded data removed]",
      "text/plain": [
       "<Figure size 432x288 with 1 Axes>"
      ]
     },
     "metadata": {
      "needs_background": "light"
     },
     "output_type": "display_data"
    }
   ],
   "source": [
    "log_fare = np.log(data[feature_name])\n",
    "x = log_fare\n",
    "plt.hist(x, bins=30)\n",
    "plt.xlabel('log_Fare')\n",
    "plt.ylabel('Frequency')"
   ]
  },
  {
   "cell_type": "markdown",
   "metadata": {},
   "source": [
    "That looks slightly better. Next, we'll min_max scale it like we did last time."
   ]
  },
  {
   "cell_type": "code",
   "execution_count": 36,
   "metadata": {},
   "outputs": [
    {
     "data": {
      "text/html": [
       "<div>\n",
       "<style scoped>\n",
       "    .dataframe tbody tr th:only-of-type {\n",
       "        vertical-align: middle;\n",
       "    }\n",
       "\n",
       "    .dataframe tbody tr th {\n",
       "        vertical-align: top;\n",
       "    }\n",
       "\n",
       "    .dataframe thead th {\n",
       "        text-align: right;\n",
       "    }\n",
       "</style>\n",
       "<table border=\"1\" class=\"dataframe\">\n",
       "  <thead>\n",
       "    <tr style=\"text-align: right;\">\n",
       "      <th></th>\n",
       "      <th>Age</th>\n",
       "      <th>Cabin</th>\n",
       "      <th>Embarked</th>\n",
       "      <th>Fare</th>\n",
       "      <th>Name</th>\n",
       "      <th>Parch</th>\n",
       "      <th>PassengerId</th>\n",
       "      <th>Pclass</th>\n",
       "      <th>Sex</th>\n",
       "      <th>SibSp</th>\n",
       "      <th>Survived</th>\n",
       "      <th>Ticket</th>\n",
       "      <th>Title</th>\n",
       "      <th>LastName</th>\n",
       "      <th>FamMort</th>\n",
       "      <th>Age_scaled</th>\n",
       "      <th>log_Fare</th>\n",
       "      <th>log_Fare_scaled</th>\n",
       "    </tr>\n",
       "  </thead>\n",
       "  <tbody>\n",
       "    <tr>\n",
       "      <th>0</th>\n",
       "      <td>22.0</td>\n",
       "      <td>NaN</td>\n",
       "      <td>S</td>\n",
       "      <td>7.2500</td>\n",
       "      <td>Braund, Mr. Owen Harris</td>\n",
       "      <td>0</td>\n",
       "      <td>1</td>\n",
       "      <td>3</td>\n",
       "      <td>male</td>\n",
       "      <td>1</td>\n",
       "      <td>0.0</td>\n",
       "      <td>A/5 21171</td>\n",
       "      <td>Mr.</td>\n",
       "      <td>Braund</td>\n",
       "      <td>-1.0</td>\n",
       "      <td>0.273456</td>\n",
       "      <td>1.981001</td>\n",
       "      <td>0.162639</td>\n",
       "    </tr>\n",
       "    <tr>\n",
       "      <th>1</th>\n",
       "      <td>38.0</td>\n",
       "      <td>C85</td>\n",
       "      <td>C</td>\n",
       "      <td>71.2833</td>\n",
       "      <td>Cumings, Mrs. John Bradley (Florence Briggs Th...</td>\n",
       "      <td>0</td>\n",
       "      <td>2</td>\n",
       "      <td>1</td>\n",
       "      <td>female</td>\n",
       "      <td>1</td>\n",
       "      <td>1.0</td>\n",
       "      <td>PC 17599</td>\n",
       "      <td>Mrs.</td>\n",
       "      <td>Cumings</td>\n",
       "      <td>-1.0</td>\n",
       "      <td>0.473882</td>\n",
       "      <td>4.266662</td>\n",
       "      <td>0.612131</td>\n",
       "    </tr>\n",
       "    <tr>\n",
       "      <th>2</th>\n",
       "      <td>26.0</td>\n",
       "      <td>NaN</td>\n",
       "      <td>S</td>\n",
       "      <td>7.9250</td>\n",
       "      <td>Heikkinen, Miss. Laina</td>\n",
       "      <td>0</td>\n",
       "      <td>3</td>\n",
       "      <td>3</td>\n",
       "      <td>female</td>\n",
       "      <td>0</td>\n",
       "      <td>1.0</td>\n",
       "      <td>STON/O2. 3101282</td>\n",
       "      <td>Miss.</td>\n",
       "      <td>Heikkinen</td>\n",
       "      <td>-1.0</td>\n",
       "      <td>0.323563</td>\n",
       "      <td>2.070022</td>\n",
       "      <td>0.180146</td>\n",
       "    </tr>\n",
       "    <tr>\n",
       "      <th>3</th>\n",
       "      <td>35.0</td>\n",
       "      <td>C123</td>\n",
       "      <td>S</td>\n",
       "      <td>53.1000</td>\n",
       "      <td>Futrelle, Mrs. Jacques Heath (Lily May Peel)</td>\n",
       "      <td>0</td>\n",
       "      <td>4</td>\n",
       "      <td>1</td>\n",
       "      <td>female</td>\n",
       "      <td>1</td>\n",
       "      <td>1.0</td>\n",
       "      <td>113803</td>\n",
       "      <td>Mrs.</td>\n",
       "      <td>Futrelle</td>\n",
       "      <td>-1.0</td>\n",
       "      <td>0.436302</td>\n",
       "      <td>3.972177</td>\n",
       "      <td>0.554219</td>\n",
       "    </tr>\n",
       "    <tr>\n",
       "      <th>4</th>\n",
       "      <td>35.0</td>\n",
       "      <td>NaN</td>\n",
       "      <td>S</td>\n",
       "      <td>8.0500</td>\n",
       "      <td>Allen, Mr. William Henry</td>\n",
       "      <td>0</td>\n",
       "      <td>5</td>\n",
       "      <td>3</td>\n",
       "      <td>male</td>\n",
       "      <td>0</td>\n",
       "      <td>0.0</td>\n",
       "      <td>373450</td>\n",
       "      <td>Mr.</td>\n",
       "      <td>Allen</td>\n",
       "      <td>-1.0</td>\n",
       "      <td>0.436302</td>\n",
       "      <td>2.085672</td>\n",
       "      <td>0.183223</td>\n",
       "    </tr>\n",
       "  </tbody>\n",
       "</table>\n",
       "</div>"
      ],
      "text/plain": [
       "    Age Cabin Embarked     Fare  \\\n",
       "0  22.0   NaN        S   7.2500   \n",
       "1  38.0   C85        C  71.2833   \n",
       "2  26.0   NaN        S   7.9250   \n",
       "3  35.0  C123        S  53.1000   \n",
       "4  35.0   NaN        S   8.0500   \n",
       "\n",
       "                                                Name  Parch  PassengerId  \\\n",
       "0                            Braund, Mr. Owen Harris      0            1   \n",
       "1  Cumings, Mrs. John Bradley (Florence Briggs Th...      0            2   \n",
       "2                             Heikkinen, Miss. Laina      0            3   \n",
       "3       Futrelle, Mrs. Jacques Heath (Lily May Peel)      0            4   \n",
       "4                           Allen, Mr. William Henry      0            5   \n",
       "\n",
       "  Pclass     Sex  SibSp  Survived            Ticket  Title   LastName FamMort  \\\n",
       "0      3    male      1       0.0         A/5 21171    Mr.     Braund    -1.0   \n",
       "1      1  female      1       1.0          PC 17599   Mrs.    Cumings    -1.0   \n",
       "2      3  female      0       1.0  STON/O2. 3101282  Miss.  Heikkinen    -1.0   \n",
       "3      1  female      1       1.0            113803   Mrs.   Futrelle    -1.0   \n",
       "4      3    male      0       0.0            373450    Mr.      Allen    -1.0   \n",
       "\n",
       "   Age_scaled  log_Fare  log_Fare_scaled  \n",
       "0    0.273456  1.981001         0.162639  \n",
       "1    0.473882  4.266662         0.612131  \n",
       "2    0.323563  2.070022         0.180146  \n",
       "3    0.436302  3.972177         0.554219  \n",
       "4    0.436302  2.085672         0.183223  "
      ]
     },
     "execution_count": 36,
     "metadata": {},
     "output_type": "execute_result"
    }
   ],
   "source": [
    "data['log_Fare'] = log_fare\n",
    "new_feat = f'log_{feature_name}_scaled'\n",
    "data[new_feat] = min_max('log_Fare', data)\n",
    "data.head()"
   ]
  },
  {
   "cell_type": "code",
   "execution_count": 39,
   "metadata": {},
   "outputs": [
    {
     "data": {
      "image/png": "[encoded data removed]",
      "text/plain": [
       "<Figure size 432x288 with 1 Axes>"
      ]
     },
     "metadata": {
      "needs_background": "light"
     },
     "output_type": "display_data"
    }
   ],
   "source": [
    "# Next we'll make a box plot to get an idea of how significant the feature\n",
    "# will be for predicting survival.\n",
    "box_plot(\"Survived\",\"log_Fare_scaled\", data)"
   ]
  },
  {
   "cell_type": "markdown",
   "metadata": {},
   "source": [
    "Observation: Probably pretty significant. The means and quartiles vary across groups."
   ]
  },
  {
   "cell_type": "markdown",
   "metadata": {},
   "source": [
    "## Cabin / Categorical"
   ]
  },
  {
   "cell_type": "code",
   "execution_count": 37,
   "metadata": {},
   "outputs": [
    {
     "data": {
      "text/plain": [
       "1014"
      ]
     },
     "execution_count": 37,
     "metadata": {},
     "output_type": "execute_result"
    }
   ],
   "source": [
    "# setting the feature name we're examining so that we don't have to re-type it\n",
    "feature_name = \"Cabin\"\n",
    "# checking for missing values\n",
    "data[feature_name].isnull().sum()"
   ]
  },
  {
   "cell_type": "markdown",
   "metadata": {},
   "source": [
    "We won't be using cabin because too many of the values are missing. Imputing these missing values based on only the 300 or so cabin observations in our training data would likely just add bias to our data."
   ]
  },
  {
   "cell_type": "markdown",
   "metadata": {},
   "source": [
    "## Embarked / Categorical"
   ]
  },
  {
   "cell_type": "code",
   "execution_count": 40,
   "metadata": {},
   "outputs": [
    {
     "data": {
      "text/plain": [
       "2"
      ]
     },
     "execution_count": 40,
     "metadata": {},
     "output_type": "execute_result"
    }
   ],
   "source": [
    "# setting the feature name we're examining so that we don't have to re-type it\n",
    "feature_name = \"Embarked\"\n",
    "# checking for missing values\n",
    "data[feature_name].isnull().sum()"
   ]
  },
  {
   "cell_type": "markdown",
   "metadata": {},
   "source": [
    "Observation: There are only two missing values. Let's take a look at those rows and see if they look erroneous."
   ]
  },
  {
   "cell_type": "code",
   "execution_count": 41,
   "metadata": {},
   "outputs": [
    {
     "data": {
      "text/html": [
       "<div>\n",
       "<style scoped>\n",
       "    .dataframe tbody tr th:only-of-type {\n",
       "        vertical-align: middle;\n",
       "    }\n",
       "\n",
       "    .dataframe tbody tr th {\n",
       "        vertical-align: top;\n",
       "    }\n",
       "\n",
       "    .dataframe thead th {\n",
       "        text-align: right;\n",
       "    }\n",
       "</style>\n",
       "<table border=\"1\" class=\"dataframe\">\n",
       "  <thead>\n",
       "    <tr style=\"text-align: right;\">\n",
       "      <th></th>\n",
       "      <th>Age</th>\n",
       "      <th>Cabin</th>\n",
       "      <th>Embarked</th>\n",
       "      <th>Fare</th>\n",
       "      <th>Name</th>\n",
       "      <th>Parch</th>\n",
       "      <th>PassengerId</th>\n",
       "      <th>Pclass</th>\n",
       "      <th>Sex</th>\n",
       "      <th>SibSp</th>\n",
       "      <th>Survived</th>\n",
       "      <th>Ticket</th>\n",
       "      <th>Title</th>\n",
       "      <th>LastName</th>\n",
       "      <th>FamMort</th>\n",
       "      <th>Age_scaled</th>\n",
       "      <th>log_Fare</th>\n",
       "      <th>log_Fare_scaled</th>\n",
       "    </tr>\n",
       "  </thead>\n",
       "  <tbody>\n",
       "    <tr>\n",
       "      <th>61</th>\n",
       "      <td>38.0</td>\n",
       "      <td>B28</td>\n",
       "      <td>NaN</td>\n",
       "      <td>80.0</td>\n",
       "      <td>Icard, Miss. Amelie</td>\n",
       "      <td>0</td>\n",
       "      <td>62</td>\n",
       "      <td>1</td>\n",
       "      <td>female</td>\n",
       "      <td>0</td>\n",
       "      <td>1.0</td>\n",
       "      <td>113572</td>\n",
       "      <td>Miss.</td>\n",
       "      <td>Icard</td>\n",
       "      <td>-1.0</td>\n",
       "      <td>0.473882</td>\n",
       "      <td>4.382027</td>\n",
       "      <td>0.634819</td>\n",
       "    </tr>\n",
       "    <tr>\n",
       "      <th>829</th>\n",
       "      <td>62.0</td>\n",
       "      <td>B28</td>\n",
       "      <td>NaN</td>\n",
       "      <td>80.0</td>\n",
       "      <td>Stone, Mrs. George Nelson (Martha Evelyn)</td>\n",
       "      <td>0</td>\n",
       "      <td>830</td>\n",
       "      <td>1</td>\n",
       "      <td>female</td>\n",
       "      <td>0</td>\n",
       "      <td>1.0</td>\n",
       "      <td>113572</td>\n",
       "      <td>Mrs.</td>\n",
       "      <td>Stone</td>\n",
       "      <td>-1.0</td>\n",
       "      <td>0.774521</td>\n",
       "      <td>4.382027</td>\n",
       "      <td>0.634819</td>\n",
       "    </tr>\n",
       "  </tbody>\n",
       "</table>\n",
       "</div>"
      ],
      "text/plain": [
       "      Age Cabin Embarked  Fare                                       Name  \\\n",
       "61   38.0   B28      NaN  80.0                        Icard, Miss. Amelie   \n",
       "829  62.0   B28      NaN  80.0  Stone, Mrs. George Nelson (Martha Evelyn)   \n",
       "\n",
       "     Parch  PassengerId Pclass     Sex  SibSp  Survived  Ticket  Title  \\\n",
       "61       0           62      1  female      0       1.0  113572  Miss.   \n",
       "829      0          830      1  female      0       1.0  113572   Mrs.   \n",
       "\n",
       "    LastName FamMort  Age_scaled  log_Fare  log_Fare_scaled  \n",
       "61     Icard    -1.0    0.473882  4.382027         0.634819  \n",
       "829    Stone    -1.0    0.774521  4.382027         0.634819  "
      ]
     },
     "execution_count": 41,
     "metadata": {},
     "output_type": "execute_result"
    }
   ],
   "source": [
    "data[data[feature_name].isnull()]"
   ]
  },
  {
   "cell_type": "markdown",
   "metadata": {},
   "source": [
    "These look fine. Both observations are first class individuals that paid the same fare. Let's take a look at those relationsips to see if we can impute based on them."
   ]
  },
  {
   "cell_type": "code",
   "execution_count": 35,
   "metadata": {},
   "outputs": [
    {
     "data": {
      "text/plain": [
       "[(0.0, 100.0)]"
      ]
     },
     "execution_count": 35,
     "metadata": {},
     "output_type": "execute_result"
    },
    {
     "data": {
      "image/png": "[encoded data removed]",
      "text/plain": [
       "<Figure size 432x288 with 1 Axes>"
      ]
     },
     "metadata": {
      "needs_background": "light"
     },
     "output_type": "display_data"
    }
   ],
   "source": [
    "ax = sb.boxplot(x=data['Embarked'], y=data['Fare'])\n",
    "ax.set_xticklabels(ax.get_xticklabels(),rotation=-90)\n",
    "ax.set(ylim=(0, 100))"
   ]
  },
  {
   "cell_type": "markdown",
   "metadata": {},
   "source": [
    "Both individuals paid 80.0 for fare. Based on Embarked factor levels they are most liekly 'C'."
   ]
  },
  {
   "cell_type": "code",
   "execution_count": 36,
   "metadata": {},
   "outputs": [
    {
     "data": {
      "image/png": "[encoded data removed]",
      "text/plain": [
       "<Figure size 418.25x360 with 1 Axes>"
      ]
     },
     "metadata": {
      "needs_background": "light"
     },
     "output_type": "display_data"
    }
   ],
   "source": [
    "interaction_plot(\"Embarked\", 'Pclass', data)"
   ]
  },
  {
   "cell_type": "markdown",
   "metadata": {},
   "source": [
    "Both individuals are first class. Based on Embarked they're likely 'C'. We'll imput ethe value 'C' for both of those observations."
   ]
  },
  {
   "cell_type": "code",
   "execution_count": 37,
   "metadata": {},
   "outputs": [],
   "source": [
    "data[feature_name] = data[feature_name].fillna('C')"
   ]
  },
  {
   "cell_type": "code",
   "execution_count": 38,
   "metadata": {},
   "outputs": [
    {
     "data": {
      "text/plain": [
       "0"
      ]
     },
     "execution_count": 38,
     "metadata": {},
     "output_type": "execute_result"
    }
   ],
   "source": [
    "data[feature_name].isnull().sum()"
   ]
  },
  {
   "cell_type": "code",
   "execution_count": 43,
   "metadata": {},
   "outputs": [
    {
     "data": {
      "image/png": "[encoded data removed]",
      "text/plain": [
       "<Figure size 412x360 with 1 Axes>"
      ]
     },
     "metadata": {
      "needs_background": "light"
     },
     "output_type": "display_data"
    }
   ],
   "source": [
    "# Next we'll make a box plot to get an idea of how significant the feature\n",
    "# will be for predicting survival.\n",
    "interaction_plot(\"Survived\", 'Embarked', data)"
   ]
  },
  {
   "cell_type": "markdown",
   "metadata": {},
   "source": [
    "This looks like a fairly significant relationsip.\n",
    "</br>'C' observations were more likely to survive.\n",
    "</br>'S' observations were more likely to perish."
   ]
  },
  {
   "cell_type": "markdown",
   "metadata": {},
   "source": [
    "## Sex / categorical"
   ]
  },
  {
   "cell_type": "code",
   "execution_count": 44,
   "metadata": {},
   "outputs": [
    {
     "data": {
      "text/plain": [
       "0"
      ]
     },
     "execution_count": 44,
     "metadata": {},
     "output_type": "execute_result"
    }
   ],
   "source": [
    "# setting the feature name we're examining so that we don't have to re-type it\n",
    "feature_name = \"Sex\"\n",
    "# checking for missing values\n",
    "data[feature_name].isnull().sum()"
   ]
  },
  {
   "cell_type": "code",
   "execution_count": 46,
   "metadata": {},
   "outputs": [
    {
     "data": {
      "image/png": "[encoded data removed]",
      "text/plain": [
       "<Figure size 412x360 with 1 Axes>"
      ]
     },
     "metadata": {
      "needs_background": "light"
     },
     "output_type": "display_data"
    }
   ],
   "source": [
    "interaction_plot(\"Survived\", 'Sex', data)"
   ]
  },
  {
   "cell_type": "markdown",
   "metadata": {},
   "source": [
    "This looks fairly significant. Women were more likely to survive.\n",
    "</br>Men were more likely to perish."
   ]
  },
  {
   "cell_type": "markdown",
   "metadata": {},
   "source": [
    "## SibSp / Discrete numerical"
   ]
  },
  {
   "cell_type": "code",
   "execution_count": 47,
   "metadata": {},
   "outputs": [
    {
     "data": {
      "text/plain": [
       "0"
      ]
     },
     "execution_count": 47,
     "metadata": {},
     "output_type": "execute_result"
    }
   ],
   "source": [
    "# setting the feature name we're examining so that we don't have to re-type it\n",
    "feature_name = \"SibSp\"\n",
    "# checking for missing values\n",
    "data[feature_name].isnull().sum()"
   ]
  },
  {
   "cell_type": "code",
   "execution_count": 48,
   "metadata": {},
   "outputs": [
    {
     "data": {
      "text/plain": [
       "count    1309.000000\n",
       "mean        0.498854\n",
       "std         1.041658\n",
       "min         0.000000\n",
       "25%         0.000000\n",
       "50%         0.000000\n",
       "75%         1.000000\n",
       "max         8.000000\n",
       "Name: SibSp, dtype: float64"
      ]
     },
     "execution_count": 48,
     "metadata": {},
     "output_type": "execute_result"
    }
   ],
   "source": [
    "data[feature_name].describe()"
   ]
  },
  {
   "cell_type": "code",
   "execution_count": 43,
   "metadata": {},
   "outputs": [
    {
     "data": {
      "text/plain": [
       "Text(0, 0.5, 'Frequency')"
      ]
     },
     "execution_count": 43,
     "metadata": {},
     "output_type": "execute_result"
    },
    {
     "data": {
      "image/png": "[encoded data removed]",
      "text/plain": [
       "<Figure size 432x288 with 1 Axes>"
      ]
     },
     "metadata": {
      "needs_background": "light"
     },
     "output_type": "display_data"
    }
   ],
   "source": [
    "# lets take a look at the graph of the distribution. \n",
    "x = data[feature_name]\n",
    "plt.hist(x, bins=8)\n",
    "plt.xlabel('SibSp')\n",
    "plt.ylabel('Frequency')"
   ]
  },
  {
   "cell_type": "markdown",
   "metadata": {},
   "source": [
    "Observation: The data is right skewed. However, we wont do a log transform this time because the data is discrete. "
   ]
  },
  {
   "cell_type": "code",
   "execution_count": 49,
   "metadata": {},
   "outputs": [],
   "source": [
    "# I'll scale the data now.\n",
    "data[f'{feature_name}_scaled'] = min_max(feature_name, data)"
   ]
  },
  {
   "cell_type": "code",
   "execution_count": 50,
   "metadata": {},
   "outputs": [
    {
     "data": {
      "text/html": [
       "<div>\n",
       "<style scoped>\n",
       "    .dataframe tbody tr th:only-of-type {\n",
       "        vertical-align: middle;\n",
       "    }\n",
       "\n",
       "    .dataframe tbody tr th {\n",
       "        vertical-align: top;\n",
       "    }\n",
       "\n",
       "    .dataframe thead th {\n",
       "        text-align: right;\n",
       "    }\n",
       "</style>\n",
       "<table border=\"1\" class=\"dataframe\">\n",
       "  <thead>\n",
       "    <tr style=\"text-align: right;\">\n",
       "      <th></th>\n",
       "      <th>Age</th>\n",
       "      <th>Cabin</th>\n",
       "      <th>Embarked</th>\n",
       "      <th>Fare</th>\n",
       "      <th>Name</th>\n",
       "      <th>Parch</th>\n",
       "      <th>PassengerId</th>\n",
       "      <th>Pclass</th>\n",
       "      <th>Sex</th>\n",
       "      <th>SibSp</th>\n",
       "      <th>Survived</th>\n",
       "      <th>Ticket</th>\n",
       "      <th>Title</th>\n",
       "      <th>LastName</th>\n",
       "      <th>FamMort</th>\n",
       "      <th>Age_scaled</th>\n",
       "      <th>log_Fare</th>\n",
       "      <th>log_Fare_scaled</th>\n",
       "      <th>SibSp_scaled</th>\n",
       "    </tr>\n",
       "  </thead>\n",
       "  <tbody>\n",
       "    <tr>\n",
       "      <th>0</th>\n",
       "      <td>22.0</td>\n",
       "      <td>NaN</td>\n",
       "      <td>S</td>\n",
       "      <td>7.2500</td>\n",
       "      <td>Braund, Mr. Owen Harris</td>\n",
       "      <td>0</td>\n",
       "      <td>1</td>\n",
       "      <td>3</td>\n",
       "      <td>male</td>\n",
       "      <td>1</td>\n",
       "      <td>0.0</td>\n",
       "      <td>A/5 21171</td>\n",
       "      <td>Mr.</td>\n",
       "      <td>Braund</td>\n",
       "      <td>-1.0</td>\n",
       "      <td>0.273456</td>\n",
       "      <td>1.981001</td>\n",
       "      <td>0.162639</td>\n",
       "      <td>0.125</td>\n",
       "    </tr>\n",
       "    <tr>\n",
       "      <th>1</th>\n",
       "      <td>38.0</td>\n",
       "      <td>C85</td>\n",
       "      <td>C</td>\n",
       "      <td>71.2833</td>\n",
       "      <td>Cumings, Mrs. John Bradley (Florence Briggs Th...</td>\n",
       "      <td>0</td>\n",
       "      <td>2</td>\n",
       "      <td>1</td>\n",
       "      <td>female</td>\n",
       "      <td>1</td>\n",
       "      <td>1.0</td>\n",
       "      <td>PC 17599</td>\n",
       "      <td>Mrs.</td>\n",
       "      <td>Cumings</td>\n",
       "      <td>-1.0</td>\n",
       "      <td>0.473882</td>\n",
       "      <td>4.266662</td>\n",
       "      <td>0.612131</td>\n",
       "      <td>0.125</td>\n",
       "    </tr>\n",
       "    <tr>\n",
       "      <th>2</th>\n",
       "      <td>26.0</td>\n",
       "      <td>NaN</td>\n",
       "      <td>S</td>\n",
       "      <td>7.9250</td>\n",
       "      <td>Heikkinen, Miss. Laina</td>\n",
       "      <td>0</td>\n",
       "      <td>3</td>\n",
       "      <td>3</td>\n",
       "      <td>female</td>\n",
       "      <td>0</td>\n",
       "      <td>1.0</td>\n",
       "      <td>STON/O2. 3101282</td>\n",
       "      <td>Miss.</td>\n",
       "      <td>Heikkinen</td>\n",
       "      <td>-1.0</td>\n",
       "      <td>0.323563</td>\n",
       "      <td>2.070022</td>\n",
       "      <td>0.180146</td>\n",
       "      <td>0.000</td>\n",
       "    </tr>\n",
       "    <tr>\n",
       "      <th>3</th>\n",
       "      <td>35.0</td>\n",
       "      <td>C123</td>\n",
       "      <td>S</td>\n",
       "      <td>53.1000</td>\n",
       "      <td>Futrelle, Mrs. Jacques Heath (Lily May Peel)</td>\n",
       "      <td>0</td>\n",
       "      <td>4</td>\n",
       "      <td>1</td>\n",
       "      <td>female</td>\n",
       "      <td>1</td>\n",
       "      <td>1.0</td>\n",
       "      <td>113803</td>\n",
       "      <td>Mrs.</td>\n",
       "      <td>Futrelle</td>\n",
       "      <td>-1.0</td>\n",
       "      <td>0.436302</td>\n",
       "      <td>3.972177</td>\n",
       "      <td>0.554219</td>\n",
       "      <td>0.125</td>\n",
       "    </tr>\n",
       "    <tr>\n",
       "      <th>4</th>\n",
       "      <td>35.0</td>\n",
       "      <td>NaN</td>\n",
       "      <td>S</td>\n",
       "      <td>8.0500</td>\n",
       "      <td>Allen, Mr. William Henry</td>\n",
       "      <td>0</td>\n",
       "      <td>5</td>\n",
       "      <td>3</td>\n",
       "      <td>male</td>\n",
       "      <td>0</td>\n",
       "      <td>0.0</td>\n",
       "      <td>373450</td>\n",
       "      <td>Mr.</td>\n",
       "      <td>Allen</td>\n",
       "      <td>-1.0</td>\n",
       "      <td>0.436302</td>\n",
       "      <td>2.085672</td>\n",
       "      <td>0.183223</td>\n",
       "      <td>0.000</td>\n",
       "    </tr>\n",
       "  </tbody>\n",
       "</table>\n",
       "</div>"
      ],
      "text/plain": [
       "    Age Cabin Embarked     Fare  \\\n",
       "0  22.0   NaN        S   7.2500   \n",
       "1  38.0   C85        C  71.2833   \n",
       "2  26.0   NaN        S   7.9250   \n",
       "3  35.0  C123        S  53.1000   \n",
       "4  35.0   NaN        S   8.0500   \n",
       "\n",
       "                                                Name  Parch  PassengerId  \\\n",
       "0                            Braund, Mr. Owen Harris      0            1   \n",
       "1  Cumings, Mrs. John Bradley (Florence Briggs Th...      0            2   \n",
       "2                             Heikkinen, Miss. Laina      0            3   \n",
       "3       Futrelle, Mrs. Jacques Heath (Lily May Peel)      0            4   \n",
       "4                           Allen, Mr. William Henry      0            5   \n",
       "\n",
       "  Pclass     Sex  SibSp  Survived            Ticket  Title   LastName FamMort  \\\n",
       "0      3    male      1       0.0         A/5 21171    Mr.     Braund    -1.0   \n",
       "1      1  female      1       1.0          PC 17599   Mrs.    Cumings    -1.0   \n",
       "2      3  female      0       1.0  STON/O2. 3101282  Miss.  Heikkinen    -1.0   \n",
       "3      1  female      1       1.0            113803   Mrs.   Futrelle    -1.0   \n",
       "4      3    male      0       0.0            373450    Mr.      Allen    -1.0   \n",
       "\n",
       "   Age_scaled  log_Fare  log_Fare_scaled  SibSp_scaled  \n",
       "0    0.273456  1.981001         0.162639         0.125  \n",
       "1    0.473882  4.266662         0.612131         0.125  \n",
       "2    0.323563  2.070022         0.180146         0.000  \n",
       "3    0.436302  3.972177         0.554219         0.125  \n",
       "4    0.436302  2.085672         0.183223         0.000  "
      ]
     },
     "execution_count": 50,
     "metadata": {},
     "output_type": "execute_result"
    }
   ],
   "source": [
    "data.head()"
   ]
  },
  {
   "cell_type": "code",
   "execution_count": 52,
   "metadata": {},
   "outputs": [
    {
     "data": {
      "image/png": "[encoded data removed]",
      "text/plain": [
       "<Figure size 432x288 with 1 Axes>"
      ]
     },
     "metadata": {
      "needs_background": "light"
     },
     "output_type": "display_data"
    }
   ],
   "source": [
    "# Next we'll make a box plot to get an idea of how significant the feature\n",
    "# will be for predicting survival.\n",
    "box_plot(\"Survived\",\"SibSp_scaled\", data)"
   ]
  },
  {
   "cell_type": "markdown",
   "metadata": {},
   "source": [
    "These are essentially the same. We won't be using this during modelling."
   ]
  },
  {
   "cell_type": "markdown",
   "metadata": {},
   "source": [
    "## Parch / Numeric discrete"
   ]
  },
  {
   "cell_type": "code",
   "execution_count": 53,
   "metadata": {},
   "outputs": [
    {
     "data": {
      "text/plain": [
       "0"
      ]
     },
     "execution_count": 53,
     "metadata": {},
     "output_type": "execute_result"
    }
   ],
   "source": [
    "# setting the feature name we're examining so that we don't have to re-type it\n",
    "feature_name = \"Parch\"\n",
    "# checking for missing values\n",
    "data[feature_name].isnull().sum()"
   ]
  },
  {
   "cell_type": "code",
   "execution_count": 54,
   "metadata": {},
   "outputs": [
    {
     "data": {
      "text/plain": [
       "count    1309.000000\n",
       "mean        0.385027\n",
       "std         0.865560\n",
       "min         0.000000\n",
       "25%         0.000000\n",
       "50%         0.000000\n",
       "75%         0.000000\n",
       "max         9.000000\n",
       "Name: Parch, dtype: float64"
      ]
     },
     "execution_count": 54,
     "metadata": {},
     "output_type": "execute_result"
    }
   ],
   "source": [
    "data[feature_name].describe()"
   ]
  },
  {
   "cell_type": "code",
   "execution_count": 55,
   "metadata": {},
   "outputs": [
    {
     "data": {
      "text/plain": [
       "Text(0, 0.5, 'Frequency')"
      ]
     },
     "execution_count": 55,
     "metadata": {},
     "output_type": "execute_result"
    },
    {
     "data": {
      "image/png": "[encoded data removed]",
      "text/plain": [
       "<Figure size 432x288 with 1 Axes>"
      ]
     },
     "metadata": {
      "needs_background": "light"
     },
     "output_type": "display_data"
    }
   ],
   "source": [
    "x = data[feature_name]\n",
    "plt.hist(x, bins=9)\n",
    "plt.xlabel('Parch')\n",
    "plt.ylabel('Frequency')"
   ]
  },
  {
   "cell_type": "markdown",
   "metadata": {},
   "source": [
    "Observation: The data is right skewed. However, again, we wont do a log transform this time because the data is discrete. "
   ]
  },
  {
   "cell_type": "code",
   "execution_count": 57,
   "metadata": {},
   "outputs": [],
   "source": [
    "# I'll scale the data now.\n",
    "data[f'{feature_name}_scaled'] = min_max(feature_name, data)"
   ]
  },
  {
   "cell_type": "code",
   "execution_count": 58,
   "metadata": {},
   "outputs": [
    {
     "data": {
      "text/html": [
       "<div>\n",
       "<style scoped>\n",
       "    .dataframe tbody tr th:only-of-type {\n",
       "        vertical-align: middle;\n",
       "    }\n",
       "\n",
       "    .dataframe tbody tr th {\n",
       "        vertical-align: top;\n",
       "    }\n",
       "\n",
       "    .dataframe thead th {\n",
       "        text-align: right;\n",
       "    }\n",
       "</style>\n",
       "<table border=\"1\" class=\"dataframe\">\n",
       "  <thead>\n",
       "    <tr style=\"text-align: right;\">\n",
       "      <th></th>\n",
       "      <th>Age</th>\n",
       "      <th>Cabin</th>\n",
       "      <th>Embarked</th>\n",
       "      <th>Fare</th>\n",
       "      <th>Name</th>\n",
       "      <th>Parch</th>\n",
       "      <th>PassengerId</th>\n",
       "      <th>Pclass</th>\n",
       "      <th>Sex</th>\n",
       "      <th>SibSp</th>\n",
       "      <th>Survived</th>\n",
       "      <th>Ticket</th>\n",
       "      <th>Title</th>\n",
       "      <th>LastName</th>\n",
       "      <th>FamMort</th>\n",
       "      <th>Age_scaled</th>\n",
       "      <th>log_Fare</th>\n",
       "      <th>log_Fare_scaled</th>\n",
       "      <th>SibSp_scaled</th>\n",
       "      <th>Parch_scaled</th>\n",
       "    </tr>\n",
       "  </thead>\n",
       "  <tbody>\n",
       "    <tr>\n",
       "      <th>0</th>\n",
       "      <td>22.0</td>\n",
       "      <td>NaN</td>\n",
       "      <td>S</td>\n",
       "      <td>7.2500</td>\n",
       "      <td>Braund, Mr. Owen Harris</td>\n",
       "      <td>0</td>\n",
       "      <td>1</td>\n",
       "      <td>3</td>\n",
       "      <td>male</td>\n",
       "      <td>1</td>\n",
       "      <td>0.0</td>\n",
       "      <td>A/5 21171</td>\n",
       "      <td>Mr.</td>\n",
       "      <td>Braund</td>\n",
       "      <td>-1.0</td>\n",
       "      <td>0.273456</td>\n",
       "      <td>1.981001</td>\n",
       "      <td>0.162639</td>\n",
       "      <td>0.125</td>\n",
       "      <td>0.0</td>\n",
       "    </tr>\n",
       "    <tr>\n",
       "      <th>1</th>\n",
       "      <td>38.0</td>\n",
       "      <td>C85</td>\n",
       "      <td>C</td>\n",
       "      <td>71.2833</td>\n",
       "      <td>Cumings, Mrs. John Bradley (Florence Briggs Th...</td>\n",
       "      <td>0</td>\n",
       "      <td>2</td>\n",
       "      <td>1</td>\n",
       "      <td>female</td>\n",
       "      <td>1</td>\n",
       "      <td>1.0</td>\n",
       "      <td>PC 17599</td>\n",
       "      <td>Mrs.</td>\n",
       "      <td>Cumings</td>\n",
       "      <td>-1.0</td>\n",
       "      <td>0.473882</td>\n",
       "      <td>4.266662</td>\n",
       "      <td>0.612131</td>\n",
       "      <td>0.125</td>\n",
       "      <td>0.0</td>\n",
       "    </tr>\n",
       "    <tr>\n",
       "      <th>2</th>\n",
       "      <td>26.0</td>\n",
       "      <td>NaN</td>\n",
       "      <td>S</td>\n",
       "      <td>7.9250</td>\n",
       "      <td>Heikkinen, Miss. Laina</td>\n",
       "      <td>0</td>\n",
       "      <td>3</td>\n",
       "      <td>3</td>\n",
       "      <td>female</td>\n",
       "      <td>0</td>\n",
       "      <td>1.0</td>\n",
       "      <td>STON/O2. 3101282</td>\n",
       "      <td>Miss.</td>\n",
       "      <td>Heikkinen</td>\n",
       "      <td>-1.0</td>\n",
       "      <td>0.323563</td>\n",
       "      <td>2.070022</td>\n",
       "      <td>0.180146</td>\n",
       "      <td>0.000</td>\n",
       "      <td>0.0</td>\n",
       "    </tr>\n",
       "    <tr>\n",
       "      <th>3</th>\n",
       "      <td>35.0</td>\n",
       "      <td>C123</td>\n",
       "      <td>S</td>\n",
       "      <td>53.1000</td>\n",
       "      <td>Futrelle, Mrs. Jacques Heath (Lily May Peel)</td>\n",
       "      <td>0</td>\n",
       "      <td>4</td>\n",
       "      <td>1</td>\n",
       "      <td>female</td>\n",
       "      <td>1</td>\n",
       "      <td>1.0</td>\n",
       "      <td>113803</td>\n",
       "      <td>Mrs.</td>\n",
       "      <td>Futrelle</td>\n",
       "      <td>-1.0</td>\n",
       "      <td>0.436302</td>\n",
       "      <td>3.972177</td>\n",
       "      <td>0.554219</td>\n",
       "      <td>0.125</td>\n",
       "      <td>0.0</td>\n",
       "    </tr>\n",
       "    <tr>\n",
       "      <th>4</th>\n",
       "      <td>35.0</td>\n",
       "      <td>NaN</td>\n",
       "      <td>S</td>\n",
       "      <td>8.0500</td>\n",
       "      <td>Allen, Mr. William Henry</td>\n",
       "      <td>0</td>\n",
       "      <td>5</td>\n",
       "      <td>3</td>\n",
       "      <td>male</td>\n",
       "      <td>0</td>\n",
       "      <td>0.0</td>\n",
       "      <td>373450</td>\n",
       "      <td>Mr.</td>\n",
       "      <td>Allen</td>\n",
       "      <td>-1.0</td>\n",
       "      <td>0.436302</td>\n",
       "      <td>2.085672</td>\n",
       "      <td>0.183223</td>\n",
       "      <td>0.000</td>\n",
       "      <td>0.0</td>\n",
       "    </tr>\n",
       "  </tbody>\n",
       "</table>\n",
       "</div>"
      ],
      "text/plain": [
       "    Age Cabin Embarked     Fare  \\\n",
       "0  22.0   NaN        S   7.2500   \n",
       "1  38.0   C85        C  71.2833   \n",
       "2  26.0   NaN        S   7.9250   \n",
       "3  35.0  C123        S  53.1000   \n",
       "4  35.0   NaN        S   8.0500   \n",
       "\n",
       "                                                Name  Parch  PassengerId  \\\n",
       "0                            Braund, Mr. Owen Harris      0            1   \n",
       "1  Cumings, Mrs. John Bradley (Florence Briggs Th...      0            2   \n",
       "2                             Heikkinen, Miss. Laina      0            3   \n",
       "3       Futrelle, Mrs. Jacques Heath (Lily May Peel)      0            4   \n",
       "4                           Allen, Mr. William Henry      0            5   \n",
       "\n",
       "  Pclass     Sex  SibSp  Survived            Ticket  Title   LastName FamMort  \\\n",
       "0      3    male      1       0.0         A/5 21171    Mr.     Braund    -1.0   \n",
       "1      1  female      1       1.0          PC 17599   Mrs.    Cumings    -1.0   \n",
       "2      3  female      0       1.0  STON/O2. 3101282  Miss.  Heikkinen    -1.0   \n",
       "3      1  female      1       1.0            113803   Mrs.   Futrelle    -1.0   \n",
       "4      3    male      0       0.0            373450    Mr.      Allen    -1.0   \n",
       "\n",
       "   Age_scaled  log_Fare  log_Fare_scaled  SibSp_scaled  Parch_scaled  \n",
       "0    0.273456  1.981001         0.162639         0.125           0.0  \n",
       "1    0.473882  4.266662         0.612131         0.125           0.0  \n",
       "2    0.323563  2.070022         0.180146         0.000           0.0  \n",
       "3    0.436302  3.972177         0.554219         0.125           0.0  \n",
       "4    0.436302  2.085672         0.183223         0.000           0.0  "
      ]
     },
     "execution_count": 58,
     "metadata": {},
     "output_type": "execute_result"
    }
   ],
   "source": [
    "data.head()"
   ]
  },
  {
   "cell_type": "code",
   "execution_count": 59,
   "metadata": {},
   "outputs": [
    {
     "data": {
      "image/png": "[encoded data removed]",
      "text/plain": [
       "<Figure size 432x288 with 1 Axes>"
      ]
     },
     "metadata": {
      "needs_background": "light"
     },
     "output_type": "display_data"
    }
   ],
   "source": [
    "box_plot(\"Survived\",\"Parch_scaled\", data)"
   ]
  },
  {
   "cell_type": "markdown",
   "metadata": {},
   "source": [
    "These are fairly significant. It appears individuals with more parents on board were more likely to survive."
   ]
  },
  {
   "cell_type": "markdown",
   "metadata": {},
   "source": [
    "# Splitting into train and test\n",
    "Now, we'll split our data back up into the original train and test sets. We'll also select the most significant features that we found during preprocessing. First we'll create dummy variables so that our models can ingest our categorical data.\n",
    "</br>Dummy variables are explained in the following reference: </br>https://en.wikipedia.org/wiki/Dummy_variable_(statistics)"
   ]
  },
  {
   "cell_type": "code",
   "execution_count": 76,
   "metadata": {},
   "outputs": [],
   "source": [
    "# dummies\n",
    "X_dummies = pd.get_dummies(data[[\"Parch_scaled\", \"log_Fare_scaled\", \"FamMort\", \n",
    "                                 \"Title\", \"Pclass\", \"Embarked\", \"Sex\"]])\n",
    "# splitting\n",
    "X_dummies_train = X_dummies.iloc[0:890]\n",
    "X_dummies_test = X_dummies.iloc[891:]\n",
    "\n",
    "# creating labels column\n",
    "Y = data.iloc[0:890][\"Survived\"]\n",
    "# creating dataframe to store predictions\n",
    "test_frame = pd.DataFrame(data.iloc[891:][\"PassengerId\"])"
   ]
  },
  {
   "cell_type": "markdown",
   "metadata": {},
   "source": [
    "Next we'll split our training and testing data into dataframes containing only categorical and only numeric data. Some models can only take one type of data at a time, so in those cases we'll have to feed them in seperatly and use an aggregate model to get a prediction from both."
   ]
  },
  {
   "cell_type": "code",
   "execution_count": 77,
   "metadata": {},
   "outputs": [],
   "source": [
    "# creating categorical frames\n",
    "X_dummies_cat = X_dummies_train.drop([\"Parch_scaled\", \"log_Fare_scaled\"],\n",
    "                                     axis = 1)\n",
    "X_dummies_cat_t = X_dummies_test.drop([\"Parch_scaled\",  \"log_Fare_scaled\"], \n",
    "                                      axis = 1)\n",
    "# creating numeric frames\n",
    "X_num = X_dummies_train[[\"Parch_scaled\", \"log_Fare_scaled\"]]\n",
    "X_num_t = X_dummies_test[[\"Parch_scaled\", \"log_Fare_scaled\"]]"
   ]
  },
  {
   "cell_type": "code",
   "execution_count": 78,
   "metadata": {},
   "outputs": [],
   "source": [
    "# creating data frames to store our predicted probabilities in. We can add\n",
    "# predicted probabilites to this as we model and then analyze Mean Squared\n",
    "# Error at the end to evaluate them.\n",
    "train_result_frame = pd.DataFrame(Y)\n",
    "test_result_frame = pd.DataFrame()"
   ]
  },
  {
   "cell_type": "markdown",
   "metadata": {},
   "source": [
    "# Model training & validation"
   ]
  },
  {
   "cell_type": "markdown",
   "metadata": {},
   "source": [
    "I'll do a walkthrough of modelling the simplest classification models that apply to this situation. Then we'll do a Neural Net example."
   ]
  },
  {
   "cell_type": "markdown",
   "metadata": {},
   "source": [
    "## Decision Tree\n",
    "A decision tree is probably the simlest model we can apply.\n",
    "They are explained in the following reference:\n",
    "</br>https://en.wikipedia.org/wiki/Decision_tree_learning"
   ]
  },
  {
   "cell_type": "code",
   "execution_count": 79,
   "metadata": {},
   "outputs": [],
   "source": [
    "# first step is setting up cross validation. The function train_test_split\n",
    "# will randomly split our training set into training and a validation set. \n",
    "# validation sets are used to get an idea of how well the model will\n",
    "# perform on unseen data.\n",
    "x_train, x_valid, y_train, y_valid = train_test_split(\n",
    "    X_dummies_train, Y, test_size=0.25, random_state=0)"
   ]
  },
  {
   "cell_type": "code",
   "execution_count": 80,
   "metadata": {
    "codeCellConfig": {
     "rulers": [
      80
     ]
    }
   },
   "outputs": [
    {
     "data": {
      "text/plain": [
       "0.8251121076233184"
      ]
     },
     "execution_count": 80,
     "metadata": {},
     "output_type": "execute_result"
    }
   ],
   "source": [
    "# fitting\n",
    "clf = tree.DecisionTreeClassifier().fit(x_train, y_train)\n",
    "# checking accuracy on validation set\n",
    "clf.score(x_valid, y_valid)"
   ]
  },
  {
   "cell_type": "code",
   "execution_count": 81,
   "metadata": {},
   "outputs": [],
   "source": [
    "# fitting on entire training set\n",
    "clf = tree.DecisionTreeClassifier().fit(X_dummies_train, Y)\n",
    "# predicting on the test set\n",
    "test_frame[\"Survived\"] = clf.predict(X_dummies_test).astype('int32')\n",
    "# writing to a file\n",
    "test_frame.to_csv('./predictions/decision_tree.csv', index = False)\n",
    "\n",
    "# storing the predicted probabilities in dataframe for MSE analysis\n",
    "train_result_frame['dt'] = [x[1] for x in clf.predict_proba(X_dummies_train)]\n",
    "test_result_frame['dt'] = [x[1] for x in clf.predict_proba(X_dummies_test)]"
   ]
  },
  {
   "cell_type": "markdown",
   "metadata": {},
   "source": [
    "## Logistic Regression\n",
    "Logistic regression is essentially regular linear regression mapped onto the odds domain using the sigmoid activation function. Using this technique a regression model can be used to classify. See the following reference for more detail:\n",
    "</br> https://en.wikipedia.org/wiki/Logistic_regression"
   ]
  },
  {
   "cell_type": "code",
   "execution_count": 82,
   "metadata": {},
   "outputs": [],
   "source": [
    "# creating training and validation sets\n",
    "x_train, x_valid, y_train, y_valid = train_test_split(\n",
    "    X_dummies_train, Y, test_size=0.25, random_state=0)"
   ]
  },
  {
   "cell_type": "code",
   "execution_count": 83,
   "metadata": {},
   "outputs": [
    {
     "data": {
      "text/plain": [
       "0.8295964125560538"
      ]
     },
     "execution_count": 83,
     "metadata": {},
     "output_type": "execute_result"
    }
   ],
   "source": [
    "# fitting \n",
    "logr = LogisticRegression(solver = 'lbfgs').fit(x_train, y_train)\n",
    "# checking validation accuracy\n",
    "logr.score(x_valid, y_valid)"
   ]
  },
  {
   "cell_type": "code",
   "execution_count": 84,
   "metadata": {},
   "outputs": [],
   "source": [
    "# fitting to full training data\n",
    "logr = LogisticRegression(solver = 'lbfgs').fit(X_dummies_train, Y)\n",
    "# predicting the test set\n",
    "test_frame[\"Survived\"] = logr.predict(X_dummies_test).astype('int32')\n",
    "# writing results to a file\n",
    "test_frame.to_csv('./predictions/logistic_reg.csv', index = False)\n",
    "\n",
    "# storing the predicted probabilities in dataframe for MSE analysis\n",
    "train_result_frame['logr'] = [x[1] for x in \n",
    "                                  logr.predict_proba(X_dummies_train)]\n",
    "test_result_frame['logr'] = [x[1] for x in \n",
    "                                 logr.predict_proba(X_dummies_test)]"
   ]
  },
  {
   "attachments": {
    "image.png": {
     "image/png": "[encoded data removed]"
    }
   },
   "cell_type": "markdown",
   "metadata": {},
   "source": [
    "## Random Forest\n",
    "A random forest is a very powerful ensemble model. It uses a decision tree as its underlying model and a applies a method know as bagging (bootstrap aggregation). Bagging works by taking many random samples with replacement from the training data. A model (decision tree) is fitted to every random sample. The predicted result is the majority voted classification of the underlying trees. The advantage bagging gives is that it reduces variance without adding bias. For more information check this reference:\n",
    "</br>https://en.wikipedia.org/wiki/Random_forest\n",
    "</br>For more information on the bias-variance tradeoff check this reference:\n",
    "</br>https://en.wikipedia.org/wiki/Bias%E2%80%93variance_tradeoff\n",
    "</br>![image.png](attachment:image.png)"
   ]
  },
  {
   "cell_type": "markdown",
   "metadata": {},
   "source": [
    "Random forest is a more complex model than the previous models that we've fit. We'll have to do hyper-parameter tuning. Hyper-parameters are the parameters of our model that act as a mode of control for how the model fits the data. Tuning is completed by varying the hyper-parameters and cross validating the model for each variation. To accomplish this we'll use RandomizedSearchCV from sklearn. It utilizes parallel processing to speed up the process."
   ]
  },
  {
   "cell_type": "code",
   "execution_count": 85,
   "metadata": {},
   "outputs": [
    {
     "name": "stdout",
     "output_type": "stream",
     "text": [
      "Fitting 5 folds for each of 120 candidates, totalling 600 fits\n"
     ]
    },
    {
     "name": "stderr",
     "output_type": "stream",
     "text": [
      "[Parallel(n_jobs=-1)]: Using backend LokyBackend with 12 concurrent workers.\n",
      "[Parallel(n_jobs=-1)]: Done  17 tasks      | elapsed:    4.2s\n",
      "[Parallel(n_jobs=-1)]: Done 138 tasks      | elapsed:   16.8s\n",
      "[Parallel(n_jobs=-1)]: Done 341 tasks      | elapsed:   37.2s\n",
      "[Parallel(n_jobs=-1)]: Done 600 out of 600 | elapsed:  1.1min finished\n"
     ]
    },
    {
     "name": "stdout",
     "output_type": "stream",
     "text": [
      "{'n_estimators': 750, 'min_samples_split': 10, 'min_samples_leaf': 5}\n",
      "score: 0.8393258426966292\n"
     ]
    }
   ],
   "source": [
    "# the number of random samples and decision trees to build\n",
    "n_estimators = [100, 200, 500, 600, 750, 1000, 1250]\n",
    "# the min number of samples allowed at each decision tree node (controls\n",
    "# against overfitting)\n",
    "min_samples_split = [5, 10, 15, 20, 25, 30, 35, 40, 45, 50, 55]\n",
    "# the min number of samples allowed at each decision tree leaf (controls\n",
    "# against overfitting)\n",
    "min_samples_leaf = [5, 10, 15, 20, 25, 30, 35, 40, 45, 50, 55]\n",
    "# placing the parameter values into a dictionary\n",
    "grid_param = {'n_estimators': n_estimators,\n",
    "              'min_samples_split': min_samples_split,\n",
    "              'min_samples_leaf': min_samples_leaf}\n",
    "\n",
    "# initializing the model with a random state\n",
    "random_forest = rfc(random_state=4538756)\n",
    "\n",
    "# initializing the cross validator \n",
    "RFC_random = RandomizedSearchCV(estimator = random_forest, \n",
    "                             param_distributions = grid_param,\n",
    "                             n_iter = 120,\n",
    "                             verbose=2,\n",
    "                             cv = 5,\n",
    "                             random_state = 857436,\n",
    "                             n_jobs = -1)\n",
    "# starting the tuner\n",
    "RFC_random.fit(X_dummies_train, Y)\n",
    "print(RFC_random.best_params_)\n",
    "print(f'score: {RFC_random.best_score_}')"
   ]
  },
  {
   "cell_type": "code",
   "execution_count": 86,
   "metadata": {},
   "outputs": [],
   "source": [
    "# initializing the mdoel using best selected hyper-parameters\n",
    "random_forest = rfc(n_estimators = 750, min_samples_split = 10, \n",
    "                    min_samples_leaf = 5, random_state = 27394652)\n",
    "# fitting to entire training set\n",
    "randf = random_forest.fit(X_dummies_train, Y)\n",
    "# predicting the test set\n",
    "test_frame[\"Survived\"] = randf.predict(X_dummies_test).astype('int32')\n",
    "# writing to a file\n",
    "test_frame.to_csv('./predictions/random_forest.csv', index = False)\n",
    "\n",
    "# storing the predicted probabilities in dataframe for MSE analysis\n",
    "train_result_frame['randf'] = [x[1] for x in \n",
    "                                  randf.predict_proba(X_dummies_train)]\n",
    "test_result_frame['randf'] = [x[1] for x in \n",
    "                                 randf.predict_proba(X_dummies_test)]"
   ]
  },
  {
   "cell_type": "markdown",
   "metadata": {},
   "source": [
    "## Gradient Boosted Trees\n",
    "Gradient Boosting is another very powerful ensemble model. Here it uses decision trees again as the underlying model. Boosting, however, unlike bagging works sequentially instead of in parallel. It also utilizes random sampling with replacement. However the random sampling is weighted. For each random sample that is drawn and modelled and predicted the resulting residual errors are used as sample weights for the next sampling. This way the Gradient boosted model trains more on hard to predict observtations. Gradient boosting reduces bias without adding variance.</br>\n",
    "Gradient boosted Trees should work better for the titanic problem because it represents the imbalanced class problem. The hard to predict observations are the Survived individuals because there are proportionally less than them than those that perished.\n",
    "</br>For more information on the imbalanced class problem check the following reference:\n",
    "</br>https://towardsdatascience.com/class-imbalance-a-classification-headache-1939297ff4a4\n",
    "</br>For more information on gradient boosted trees check the following refrence:\n",
    "</br>https://en.wikipedia.org/wiki/Gradient_boosting"
   ]
  },
  {
   "cell_type": "code",
   "execution_count": 88,
   "metadata": {},
   "outputs": [
    {
     "name": "stdout",
     "output_type": "stream",
     "text": [
      "Fitting 5 folds for each of 120 candidates, totalling 600 fits\n"
     ]
    },
    {
     "name": "stderr",
     "output_type": "stream",
     "text": [
      "[Parallel(n_jobs=-1)]: Using backend LokyBackend with 12 concurrent workers.\n",
      "[Parallel(n_jobs=-1)]: Done  17 tasks      | elapsed:    3.3s\n",
      "[Parallel(n_jobs=-1)]: Done 138 tasks      | elapsed:   11.8s\n",
      "[Parallel(n_jobs=-1)]: Done 341 tasks      | elapsed:   25.4s\n",
      "[Parallel(n_jobs=-1)]: Done 600 out of 600 | elapsed:   42.2s finished\n"
     ]
    },
    {
     "name": "stdout",
     "output_type": "stream",
     "text": [
      "{'n_estimators': 1000, 'min_samples_split': 45, 'min_samples_leaf': 20, 'learning_rate': 0.05}\n",
      "score: 0.852808988764045\n"
     ]
    }
   ],
   "source": [
    "# the number of trees to build\n",
    "n_estimators = [100, 250, 500, 750, 1000, 1250]\n",
    "# the learning rate to apply with every tree built\n",
    "learning_rate = [0.01, 0.05, 0.1, 0.2, 0.3]\n",
    "# the min number of samples allowed at each decision tree node (controls\n",
    "# against overfitting)\n",
    "min_samples_split = [20, 25, 30, 35, 40, 45, 50, 55]\n",
    "# the min number of samples allowed at each decision tree leaf (controls\n",
    "# against overfitting)\n",
    "min_samples_leaf = [20, 25, 30, 35, 40, 45, 50, 55]\n",
    "# placing the parameter values into a dictionary\n",
    "grid_param = {'n_estimators': n_estimators,\n",
    "              'learning_rate': learning_rate,\n",
    "              'min_samples_split': min_samples_split,\n",
    "              'min_samples_leaf': min_samples_leaf}\n",
    "\n",
    "# initialize model with a random state\n",
    "gradient_boosted_trees = gbc(random_state=24352345)\n",
    "# initialize the cross validator\n",
    "GB_random = RandomizedSearchCV(estimator = gradient_boosted_trees, \n",
    "                             param_distributions = grid_param,\n",
    "                             n_iter = 120,\n",
    "                             verbose=2,\n",
    "                             cv = 5,\n",
    "                             random_state = 47567,\n",
    "                             n_jobs = -1)\n",
    "# starting the tuner\n",
    "GB_random.fit(X_dummies_train, Y)\n",
    "# print result\n",
    "print(GB_random.best_params_)\n",
    "print(f'score: {GB_random.best_score_}')"
   ]
  },
  {
   "cell_type": "code",
   "execution_count": 89,
   "metadata": {},
   "outputs": [],
   "source": [
    "# initializing the mdoel using best selected hyper-parameters\n",
    "grad_booster = gbc(n_estimators = 1000, min_samples_split = 45, \n",
    "                    min_samples_leaf = 20, learning_rate = 0.05, \n",
    "                   random_state = 34737)\n",
    "# fitting to entire training set\n",
    "gradb = grad_booster.fit(X_dummies_train, Y)\n",
    "# predicting the test set\n",
    "test_frame[\"Survived\"] = gradb.predict(X_dummies_test).astype('int32')\n",
    "# writing to a file\n",
    "test_frame.to_csv('./predictions/gradient_boosted_trees.csv', index = False)\n",
    "\n",
    "# storing the predicted probabilities in dataframe for MSE analysis\n",
    "train_result_frame['gbc'] = [x[1] for x in \n",
    "                                  gradb.predict_proba(X_dummies_train)]\n",
    "test_result_frame['gbc'] = [x[1] for x in \n",
    "                                 gradb.predict_proba(X_dummies_test)]"
   ]
  },
  {
   "cell_type": "markdown",
   "metadata": {},
   "source": [
    "## K-Nearest Neighbors - Categorgical Jaccard\n",
    "K-NN is a very simple model. It takes in the training set, calculates a distance metric for each training observation, and stores it. For each new observation to predict, K-NN calculates the same distance metric and find the K neighbors in the training data with distance metrics closest to the distance metric of the new data. K-NN takes the majority class vote from those K neighbors and assigns it to the new data. \n",
    "</br>For more information on K-NN check the following reference:\n",
    "</br>https://en.wikipedia.org/wiki/K-nearest_neighbors_algorithm\n",
    "</br>K-NN is dependent on the distance metric. For that reason we shouldn't pass in both the numeric and categorical data at once. First we'll train and predict just the categorical data. We'll use the distance metric called the 'Jaccard Index'. It is built specifically for determining the similarity of two boolean vectors. \n",
    "</br>For more information on the Jaccard Index check the following reference:\n",
    "</br>https://en.wikipedia.org/wiki/Jaccard_index"
   ]
  },
  {
   "cell_type": "code",
   "execution_count": 90,
   "metadata": {},
   "outputs": [
    {
     "name": "stdout",
     "output_type": "stream",
     "text": [
      "Fitting 5 folds for each of 18 candidates, totalling 90 fits\n"
     ]
    },
    {
     "name": "stderr",
     "output_type": "stream",
     "text": [
      "[Parallel(n_jobs=-1)]: Using backend LokyBackend with 12 concurrent workers.\n",
      "[Parallel(n_jobs=-1)]: Done  17 tasks      | elapsed:    2.2s\n"
     ]
    },
    {
     "name": "stdout",
     "output_type": "stream",
     "text": [
      "{'n_neighbors': 11}\n",
      "score: 0.8382022471910112\n"
     ]
    },
    {
     "name": "stderr",
     "output_type": "stream",
     "text": [
      "[Parallel(n_jobs=-1)]: Done  90 out of  90 | elapsed:    2.4s finished\n"
     ]
    }
   ],
   "source": [
    "# define the values of k to test\n",
    "k = [5, 11, 15, 21, 25, 31, 35, 41, 45, 51, 55, 61, 65, 71, 75, 81, 85, 91]\n",
    "# placing the parameter values into a dictionary\n",
    "grid_param = {'n_neighbors': k}\n",
    "\n",
    "# initialize model with given distance metric\n",
    "model = knn(metric = 'jaccard')\n",
    "# initialize the cross validator\n",
    "KNN_random = GridSearchCV(estimator = model, \n",
    "                             param_grid = grid_param,\n",
    "                             verbose = 2,\n",
    "                             cv = 5,\n",
    "                             n_jobs = -1)\n",
    "# begin tuning\n",
    "KNN_random.fit(X_dummies_cat, Y)\n",
    "# print results\n",
    "print(KNN_random.best_params_)\n",
    "print(f'score: {KNN_random.best_score_}')"
   ]
  },
  {
   "cell_type": "code",
   "execution_count": 91,
   "metadata": {},
   "outputs": [],
   "source": [
    "# initializing the mdoel using best selected hyper-parameters\n",
    "knn_grad = knn(metric = 'jaccard', n_neighbors = 11)\n",
    "# fitting to entire training set\n",
    "knn_c = knn_grad.fit(X_dummies_cat, Y)\n",
    "# predicting the test set\n",
    "test_frame[\"Survived\"] = knn_c.predict(X_dummies_cat_t).astype('int32')\n",
    "# writing to a file\n",
    "test_frame.to_csv('./predictions/knn_categorical.csv', index = False)\n",
    "\n",
    "# storing the predicted probabilities in dataframe for MSE analysis\n",
    "train_result_frame['knn_cat'] = [x[1] for x in \n",
    "                                  knn_c.predict_proba(X_dummies_cat)]\n",
    "test_result_frame['knn_cat'] = [x[1] for x in \n",
    "                                 knn_c.predict_proba(X_dummies_cat_t)]"
   ]
  },
  {
   "cell_type": "markdown",
   "metadata": {},
   "source": [
    "## K-Nearest Neighbors - Numeric Vector norm\n",
    "We'll now train another K-NN model on only the Numeric data. This time we'll use the 'eclidean' distance metric. This K-NN model will calculate vector norms co compare data.\n",
    "</br>For more information on the Euclidean distance metric check the following reference:\n",
    "</br>https://en.wikipedia.org/wiki/Euclidean_distance"
   ]
  },
  {
   "cell_type": "code",
   "execution_count": 94,
   "metadata": {},
   "outputs": [
    {
     "name": "stdout",
     "output_type": "stream",
     "text": [
      "Fitting 5 folds for each of 18 candidates, totalling 90 fits\n"
     ]
    },
    {
     "name": "stderr",
     "output_type": "stream",
     "text": [
      "[Parallel(n_jobs=-1)]: Using backend LokyBackend with 12 concurrent workers.\n",
      "[Parallel(n_jobs=-1)]: Done  17 tasks      | elapsed:    0.0s\n"
     ]
    },
    {
     "name": "stdout",
     "output_type": "stream",
     "text": [
      "{'n_neighbors': 61}\n",
      "score: 0.6797752808988764\n"
     ]
    },
    {
     "name": "stderr",
     "output_type": "stream",
     "text": [
      "[Parallel(n_jobs=-1)]: Done  67 out of  90 | elapsed:    0.1s remaining:    0.0s\n",
      "[Parallel(n_jobs=-1)]: Done  90 out of  90 | elapsed:    0.1s finished\n",
      "c:\\users\\woybo\\appdata\\local\\programs\\python\\python37\\lib\\site-packages\\sklearn\\model_selection\\_search.py:813: DeprecationWarning: The default of the `iid` parameter will change from True to False in version 0.22 and will be removed in 0.24. This will change numeric results when test-set sizes are unequal.\n",
      "  DeprecationWarning)\n"
     ]
    }
   ],
   "source": [
    "# define the values of k to test\n",
    "k = [5, 11, 15, 21, 25, 31, 35, 41, 45, 51, 55, 61, 65, 71, 75, 81, 85, 91]\n",
    "# placing the parameter values into a dictionary\n",
    "grid_param = {'n_neighbors': k}\n",
    "\n",
    "# initialize model with given distance metric\n",
    "model = knn(metric = 'euclidean')\n",
    "# initialize the cross validator\n",
    "KNN_random = GridSearchCV(estimator = model, \n",
    "                             param_grid = grid_param,\n",
    "                             verbose = 2,\n",
    "                             cv = 5,\n",
    "                             n_jobs = -1)\n",
    "# begin tuning\n",
    "KNN_random.fit(X_num, Y)\n",
    "# print results\n",
    "print(KNN_random.best_params_)\n",
    "print(f'score: {KNN_random.best_score_}')"
   ]
  },
  {
   "cell_type": "code",
   "execution_count": 95,
   "metadata": {},
   "outputs": [],
   "source": [
    "# initializing the mdoel using best selected hyper-parameters\n",
    "knn_grad = knn(metric = 'euclidean', n_neighbors = 61)\n",
    "# fitting to entire training set\n",
    "knn_c = knn_grad.fit(X_num, Y)\n",
    "# predicting the test set\n",
    "test_frame[\"Survived\"] = knn_c.predict(X_num_t).astype('int32')\n",
    "# writing to a file\n",
    "test_frame.to_csv('./predictions/knn_numeric.csv', index = False)\n",
    "\n",
    "# storing the predicted probabilities in dataframe for MSE analysis\n",
    "train_result_frame['knn_num'] = [x[1] for x in \n",
    "                                  knn_c.predict_proba(X_num)]\n",
    "test_result_frame['knn_num'] = [x[1] for x in \n",
    "                                 knn_c.predict_proba(X_num_t)]"
   ]
  },
  {
   "cell_type": "markdown",
   "metadata": {},
   "source": [
    "## K-Nearest Neighbors - Combined Numeric and categorical\n",
    "Now we'll train K-NN models on the categorical data and the numeric data. We'll output their predicted probabilities to a new dataframe and then train a K-NN model using the euclidean distance metric. This will work because both features (Numeric prob) and (Categorical prob) are both in the probability domain and scaled the same."
   ]
  },
  {
   "cell_type": "code",
   "execution_count": 96,
   "metadata": {},
   "outputs": [
    {
     "name": "stdout",
     "output_type": "stream",
     "text": [
      "Fitting 5 folds for each of 18 candidates, totalling 90 fits\n"
     ]
    },
    {
     "name": "stderr",
     "output_type": "stream",
     "text": [
      "[Parallel(n_jobs=-1)]: Using backend LokyBackend with 12 concurrent workers.\n"
     ]
    },
    {
     "name": "stdout",
     "output_type": "stream",
     "text": [
      "{'n_neighbors': 31}\n",
      "score: 0.8393258426966292\n"
     ]
    },
    {
     "name": "stderr",
     "output_type": "stream",
     "text": [
      "[Parallel(n_jobs=-1)]: Done  17 tasks      | elapsed:    2.1s\n",
      "[Parallel(n_jobs=-1)]: Done  90 out of  90 | elapsed:    2.3s finished\n"
     ]
    }
   ],
   "source": [
    "# fitting K-NN numeric with the best selected hyperparameters\n",
    "knn_num = knn(metric = 'euclidean', n_neighbors = 61)\n",
    "knn_num.fit(X_num, Y)\n",
    "# fitting K-NN categorical with the best selected hyperparameters\n",
    "knn_cat = knn(metric = 'jaccard', n_neighbors = 11)\n",
    "knn_cat.fit(X_dummies_cat, Y)\n",
    "\n",
    "# creating a data frame to store the probablities in\n",
    "frame = pd.DataFrame(Y)\n",
    "# saving calculated probabilities for the numeric training data\n",
    "frame[\"num_prob\"] = [x[1] for x in knn_num.predict_proba(X_num)]\n",
    "# saving calculated probabilities for the categorical training data\n",
    "frame[\"cat_prob\"] = [x[1] for x in knn_cat.predict_proba(X_dummies_cat)]\n",
    "\n",
    "# define the values of k to test\n",
    "k = [5, 11, 15, 21, 25, 31, 35, 41, 45, 51, 55, 61, 65, 71, 75, 81, 85, 91]\n",
    "# placing the parameter values into a dictionary\n",
    "grid_param = {'n_neighbors': k}\n",
    "\n",
    "# initialize model with given distance metric\n",
    "knn_full = knn(metric = 'euclidean')\n",
    "# initialize the cross validator\n",
    "KNN_random = GridSearchCV(estimator = knn_full, \n",
    "                             param_grid = grid_param,\n",
    "                             verbose = 2,\n",
    "                             cv = 5,\n",
    "                             n_jobs = -1)\n",
    "# begin tuning\n",
    "KNN_random.fit(frame[[\"num_prob\", \"cat_prob\"]], frame[\"Survived\"])\n",
    "# print results\n",
    "print(KNN_random.best_params_)\n",
    "print(f'score: {KNN_random.best_score_}')"
   ]
  },
  {
   "cell_type": "code",
   "execution_count": 97,
   "metadata": {},
   "outputs": [],
   "source": [
    "# fitting K-NN numeric with the best selected hyperparameters\n",
    "knn_num = knn(metric = 'euclidean', n_neighbors = 61)\n",
    "knn_num.fit(X_num, Y)\n",
    "# fitting K-NN categorical with the best selected hyperparameters\n",
    "knn_cat = knn(metric = 'jaccard', n_neighbors = 11)\n",
    "knn_cat.fit(X_dummies_cat, Y)\n",
    "\n",
    "# creating a data frame to store the training probablities in\n",
    "frame = pd.DataFrame(Y)\n",
    "# saving calculated probabilities for the numeric training data\n",
    "frame[\"num_prob\"] = [x[1] for x in knn_num.predict_proba(X_num)]\n",
    "# saving calculated probabilities for the categorical training data\n",
    "frame[\"cat_prob\"] = [x[1] for x in knn_cat.predict_proba(X_dummies_cat)]\n",
    "\n",
    "# creating a data frame to store the test probablities in\n",
    "frame_test = pd.DataFrame()\n",
    "# saving calculated probabilities for the numeric test data\n",
    "frame_test[\"num_prob\"] = [x[1] for x in knn_num.predict_proba(X_num_t)]\n",
    "# saving calculated probabilities for the categorical test data\n",
    "frame_test[\"cat_prob\"] = [x[1] for x in knn_cat.predict_proba(X_dummies_cat_t)]\n",
    "\n",
    "# fitting full K-NN with the best selected hyperparameters\n",
    "knn_full = knn(metric = 'euclidean', n_neighbors = 31)\n",
    "knn_full = knn_full.fit(frame[[\"num_prob\", \"cat_prob\"]], frame[\"Survived\"])\n",
    "\n",
    "# predicting on the test set probabilities\n",
    "test_frame[\"Survived\"] = knn_full.predict(\n",
    "    frame_test[[\"num_prob\", \"cat_prob\"]]\n",
    ").astype('int32')\n",
    "# saving the predictions\n",
    "test_frame.to_csv('./predictions/knn_full.csv', index = False)\n",
    "\n",
    "# storing the predicted probabilities in dataframe for MSE analysis\n",
    "train_result_frame['knn'] = [x[1] for x in \n",
    "                                  knn_full.predict_proba(\n",
    "                                      frame[[\"num_prob\", \"cat_prob\"]])]\n",
    "test_result_frame['knn'] = [x[1] for x in \n",
    "                                 knn_full.predict_proba(\n",
    "                                     frame_test[[\"num_prob\", \"cat_prob\"]])]"
   ]
  },
  {
   "cell_type": "markdown",
   "metadata": {},
   "source": [
    "## Defining a Neural Network\n",
    "The first step of building and training a Neural Network is defining one. The function create_neural_net will do just that for us. All layers we add will use the Relu activation function, except the output layer which will use the sigmoid activation function. \n",
    "</br>For more information on the Relu activation function check the following reference:\n",
    "</br>https://en.wikipedia.org/wiki/Rectifier_(neural_networks)\n",
    "</br>For more information on the Sigmoid activation function check the following reference:\n",
    "</br>https://en.wikipedia.org/wiki/Sigmoid_function\n",
    "</br>We'll also use the Adam optimizer which implements and adaptive learning rate. For more information on the Adam optimizer check the following reference:\n",
    "</br>https://medium.com/@nishantnikhil/adam-optimizer-notes-ddac4fd7218\n",
    "</br>We'll also add a dropout layer to help prevent overfitting. For more information on dropout check the following reference:\n",
    "</br>https://www.cs.toronto.edu/~hinton/absps/JMLRdropout.pdf"
   ]
  },
  {
   "cell_type": "code",
   "execution_count": 98,
   "metadata": {},
   "outputs": [],
   "source": [
    "def create_neural_net(in_shape, lyrs=[4], act='relu', opt='Adam', dr=0.0):\n",
    "    # set random seed for reproducibility\n",
    "    seed(37556)\n",
    "    tf.random.set_seed(37556)\n",
    "    \n",
    "    # initialize the model object\n",
    "    model = Sequential()\n",
    "    \n",
    "    # create first hidden layer\n",
    "    model.add(Dense(lyrs[0], input_dim=in_shape, activation=act))\n",
    "    \n",
    "    # create additional hidden layers\n",
    "    for i in range(1,len(lyrs)):\n",
    "        model.add(Dense(lyrs[i], activation=act))\n",
    "    \n",
    "    # add dropout, default is none\n",
    "    model.add(Dropout(dr))\n",
    "    \n",
    "    # create output layer\n",
    "    model.add(Dense(1, activation='sigmoid'))  # output layer\n",
    "    \n",
    "    model.compile(loss='binary_crossentropy', optimizer=opt,\n",
    "                  metrics=['accuracy'])\n",
    "    \n",
    "    return model"
   ]
  },
  {
   "cell_type": "code",
   "execution_count": 99,
   "metadata": {},
   "outputs": [
    {
     "name": "stdout",
     "output_type": "stream",
     "text": [
      "Model: \"sequential\"\n",
      "_________________________________________________________________\n",
      "Layer (type)                 Output Shape              Param #   \n",
      "=================================================================\n",
      "dense (Dense)                (None, 4)                 148       \n",
      "_________________________________________________________________\n",
      "dropout (Dropout)            (None, 4)                 0         \n",
      "_________________________________________________________________\n",
      "dense_1 (Dense)              (None, 1)                 5         \n",
      "=================================================================\n",
      "Total params: 153\n",
      "Trainable params: 153\n",
      "Non-trainable params: 0\n",
      "_________________________________________________________________\n"
     ]
    }
   ],
   "source": [
    "# creating a neural network\n",
    "single_net = create_neural_net(X_dummies_train.shape[1], lyrs =[4])\n",
    "single_net.summary()"
   ]
  },
  {
   "cell_type": "code",
   "execution_count": 100,
   "metadata": {},
   "outputs": [
    {
     "name": "stdout",
     "output_type": "stream",
     "text": [
      "\n",
      "val_acc: 83.56%\n"
     ]
    }
   ],
   "source": [
    "# fitting the network to the training data with arbitrary hyper-parameters.\n",
    "# this is just an example to show off some cool things keras can do.\n",
    "training = single_net.fit(X_dummies_train, Y, epochs=100, batch_size=32,\n",
    "                         validation_split=0.25, verbose=0)\n",
    "# outputting the validation accuracy\n",
    "val_acc = np.mean(training.history['val_accuracy'])\n",
    "print(\"\\n%s: %.2f%%\" % ('val_acc', val_acc*100))"
   ]
  },
  {
   "cell_type": "code",
   "execution_count": 101,
   "metadata": {},
   "outputs": [
    {
     "data": {
      "image/png": "[encoded data removed]",
      "text/plain": [
       "<Figure size 432x288 with 1 Axes>"
      ]
     },
     "metadata": {
      "needs_background": "light"
     },
     "output_type": "display_data"
    }
   ],
   "source": [
    "# plotting the training history\n",
    "plt.plot(training.history['accuracy'])\n",
    "plt.plot(training.history['val_accuracy'])\n",
    "plt.title('model accuracy')\n",
    "plt.ylabel('accuracy')\n",
    "plt.xlabel('epoch')\n",
    "plt.legend(['train', 'validation'], loc='upper left')\n",
    "plt.show()"
   ]
  },
  {
   "cell_type": "markdown",
   "metadata": {},
   "source": [
    "## Neural Network\n",
    "Now we'll use the above function to create a neural network and tune the hyper-parameters. For more information on Neural Networks check the following reference:\n",
    "</br>https://en.wikipedia.org/wiki/Artificial_neural_network"
   ]
  },
  {
   "cell_type": "code",
   "execution_count": 102,
   "metadata": {},
   "outputs": [
    {
     "name": "stdout",
     "output_type": "stream",
     "text": [
      "Fitting 5 folds for each of 200 candidates, totalling 1000 fits\n"
     ]
    },
    {
     "name": "stderr",
     "output_type": "stream",
     "text": [
      "[Parallel(n_jobs=-1)]: Using backend LokyBackend with 12 concurrent workers.\n",
      "[Parallel(n_jobs=-1)]: Done  17 tasks      | elapsed:   25.5s\n",
      "[Parallel(n_jobs=-1)]: Done 138 tasks      | elapsed:  5.7min\n",
      "[Parallel(n_jobs=-1)]: Done 341 tasks      | elapsed: 10.5min\n",
      "[Parallel(n_jobs=-1)]: Done 624 tasks      | elapsed: 19.3min\n",
      "[Parallel(n_jobs=-1)]: Done 1000 out of 1000 | elapsed: 29.6min finished\n"
     ]
    },
    {
     "name": "stdout",
     "output_type": "stream",
     "text": [
      "{'lyrs': [12, 8, 4], 'epochs': 50, 'dr': 0.1, 'batch_size': 1}\n",
      "score: 0.8561797738075256\n"
     ]
    }
   ],
   "source": [
    "# wrap the nerual network in an sklearn class so we can plug it into \n",
    "# RandomizedSearchCV\n",
    "neural_net = KerasClassifier(build_fn=create_neural_net, \n",
    "                             in_shape = X_dummies_train.shape[1], verbose = 0)\n",
    "# defining the batch size\n",
    "batch_size = [1, 16, 32, 64]\n",
    "# defining the number of epochs\n",
    "epochs = [25, 50, 100, 150]\n",
    "# defining the size and number of layers\n",
    "layers = [[4], [8], [12], [4, 4], [8, 4], [8, 8], [12, 8], [12, 4], [12, 8, 4]]\n",
    "# defining the rate of the dropout layer\n",
    "drops = [0.0, 0.01, 0.05, 0.1, 0.2, 0.5]\n",
    "\n",
    "# initialize model with given hyper-parameters\n",
    "grid_param = {'batch_size': batch_size,\n",
    "             'epochs': epochs,\n",
    "             'dr': drops,\n",
    "            'lyrs': layers}\n",
    "# initialize the cross validator\n",
    "nn_random = RandomizedSearchCV(estimator = neural_net, \n",
    "                             param_distributions = grid_param,\n",
    "                             n_iter = 200,\n",
    "                             verbose=2,\n",
    "                             cv = 5,\n",
    "                             random_state = 456745,\n",
    "                             n_jobs = -1)\n",
    "# begin tuning\n",
    "nn_random.fit(X_dummies_train, Y)\n",
    "\n",
    "# print results\n",
    "print(nn_random.best_params_)\n",
    "print(f'score: {nn_random.best_score_}')"
   ]
  },
  {
   "cell_type": "code",
   "execution_count": 103,
   "metadata": {},
   "outputs": [
    {
     "name": "stdout",
     "output_type": "stream",
     "text": [
      "WARNING:tensorflow:From c:\\users\\woybo\\appdata\\local\\programs\\python\\python37\\lib\\site-packages\\tensorflow\\python\\keras\\wrappers\\scikit_learn.py:241: Sequential.predict_classes (from tensorflow.python.keras.engine.sequential) is deprecated and will be removed after 2021-01-01.\n",
      "Instructions for updating:\n",
      "Please use instead:* `np.argmax(model.predict(x), axis=-1)`,   if your model does multi-class classification   (e.g. if it uses a `softmax` last-layer activation).* `(model.predict(x) > 0.5).astype(\"int32\")`,   if your model does binary classification   (e.g. if it uses a `sigmoid` last-layer activation).\n"
     ]
    },
    {
     "name": "stderr",
     "output_type": "stream",
     "text": [
      "WARNING:tensorflow:From c:\\users\\woybo\\appdata\\local\\programs\\python\\python37\\lib\\site-packages\\tensorflow\\python\\keras\\wrappers\\scikit_learn.py:241: Sequential.predict_classes (from tensorflow.python.keras.engine.sequential) is deprecated and will be removed after 2021-01-01.\n",
      "Instructions for updating:\n",
      "Please use instead:* `np.argmax(model.predict(x), axis=-1)`,   if your model does multi-class classification   (e.g. if it uses a `softmax` last-layer activation).* `(model.predict(x) > 0.5).astype(\"int32\")`,   if your model does binary classification   (e.g. if it uses a `sigmoid` last-layer activation).\n"
     ]
    },
    {
     "name": "stdout",
     "output_type": "stream",
     "text": [
      "WARNING:tensorflow:From c:\\users\\woybo\\appdata\\local\\programs\\python\\python37\\lib\\site-packages\\tensorflow\\python\\keras\\wrappers\\scikit_learn.py:264: Sequential.predict_proba (from tensorflow.python.keras.engine.sequential) is deprecated and will be removed after 2021-01-01.\n",
      "Instructions for updating:\n",
      "Please use `model.predict()` instead.\n"
     ]
    },
    {
     "name": "stderr",
     "output_type": "stream",
     "text": [
      "WARNING:tensorflow:From c:\\users\\woybo\\appdata\\local\\programs\\python\\python37\\lib\\site-packages\\tensorflow\\python\\keras\\wrappers\\scikit_learn.py:264: Sequential.predict_proba (from tensorflow.python.keras.engine.sequential) is deprecated and will be removed after 2021-01-01.\n",
      "Instructions for updating:\n",
      "Please use `model.predict()` instead.\n"
     ]
    }
   ],
   "source": [
    "# initializing the mdoel using best selected hyper-parameters\n",
    "nn = KerasClassifier(build_fn=create_neural_net, \n",
    "                        in_shape = X_dummies_train.shape[1],\n",
    "                        lyrs=[12, 8, 4], epochs=50, dr=0.1, batch_size=1, \n",
    "                         verbose=0)\n",
    "# fitting to entire training set\n",
    "nn.fit(X_dummies_train, Y)\n",
    "# predicting the entire test set\n",
    "test_frame[\"Survived\"] = nn.predict(X_dummies_test).astype('int32')\n",
    "# writing to a file\n",
    "test_frame.to_csv('./predictions/nn.csv', index = False)\n",
    "\n",
    "# storing the predicted probabilities in dataframe for MSE analysis\n",
    "train_result_frame['nn'] = [x[1] for x in \n",
    "                                  nn.predict_proba(X_dummies_train)]\n",
    "test_result_frame['nn'] = [x[1] for x in \n",
    "                                 nn.predict_proba(X_dummies_test)]"
   ]
  },
  {
   "cell_type": "markdown",
   "metadata": {},
   "source": [
    "# Results\n",
    "Now that we're done with modelling we can analyze the MSE (Mean Squared Error) of each of our models. For more information on MSE check the following reference:\n",
    "</br>https://en.wikipedia.org/wiki/Mean_squared_error"
   ]
  },
  {
   "cell_type": "code",
   "execution_count": 104,
   "metadata": {},
   "outputs": [
    {
     "data": {
      "text/html": [
       "<div>\n",
       "<style scoped>\n",
       "    .dataframe tbody tr th:only-of-type {\n",
       "        vertical-align: middle;\n",
       "    }\n",
       "\n",
       "    .dataframe tbody tr th {\n",
       "        vertical-align: top;\n",
       "    }\n",
       "\n",
       "    .dataframe thead th {\n",
       "        text-align: right;\n",
       "    }\n",
       "</style>\n",
       "<table border=\"1\" class=\"dataframe\">\n",
       "  <thead>\n",
       "    <tr style=\"text-align: right;\">\n",
       "      <th></th>\n",
       "      <th>Survived</th>\n",
       "      <th>dt</th>\n",
       "      <th>logr</th>\n",
       "      <th>randf</th>\n",
       "      <th>gbc</th>\n",
       "      <th>knn_cat</th>\n",
       "      <th>knn_num</th>\n",
       "      <th>knn</th>\n",
       "      <th>nn</th>\n",
       "    </tr>\n",
       "  </thead>\n",
       "  <tbody>\n",
       "    <tr>\n",
       "      <th>0</th>\n",
       "      <td>0.0</td>\n",
       "      <td>0.000000</td>\n",
       "      <td>0.080191</td>\n",
       "      <td>0.097471</td>\n",
       "      <td>0.042651</td>\n",
       "      <td>0.090909</td>\n",
       "      <td>0.180328</td>\n",
       "      <td>0.064516</td>\n",
       "      <td>0.123582</td>\n",
       "    </tr>\n",
       "    <tr>\n",
       "      <th>1</th>\n",
       "      <td>1.0</td>\n",
       "      <td>1.000000</td>\n",
       "      <td>0.956367</td>\n",
       "      <td>0.950157</td>\n",
       "      <td>0.998871</td>\n",
       "      <td>1.000000</td>\n",
       "      <td>0.655738</td>\n",
       "      <td>1.000000</td>\n",
       "      <td>0.996781</td>\n",
       "    </tr>\n",
       "    <tr>\n",
       "      <th>2</th>\n",
       "      <td>1.0</td>\n",
       "      <td>0.500000</td>\n",
       "      <td>0.629976</td>\n",
       "      <td>0.461371</td>\n",
       "      <td>0.526554</td>\n",
       "      <td>0.454545</td>\n",
       "      <td>0.196721</td>\n",
       "      <td>0.387097</td>\n",
       "      <td>0.396768</td>\n",
       "    </tr>\n",
       "    <tr>\n",
       "      <th>3</th>\n",
       "      <td>1.0</td>\n",
       "      <td>1.000000</td>\n",
       "      <td>0.934691</td>\n",
       "      <td>0.937721</td>\n",
       "      <td>0.994400</td>\n",
       "      <td>1.000000</td>\n",
       "      <td>0.590164</td>\n",
       "      <td>1.000000</td>\n",
       "      <td>0.997934</td>\n",
       "    </tr>\n",
       "    <tr>\n",
       "      <th>4</th>\n",
       "      <td>0.0</td>\n",
       "      <td>0.121951</td>\n",
       "      <td>0.080579</td>\n",
       "      <td>0.127776</td>\n",
       "      <td>0.125205</td>\n",
       "      <td>0.090909</td>\n",
       "      <td>0.213115</td>\n",
       "      <td>0.096774</td>\n",
       "      <td>0.126102</td>\n",
       "    </tr>\n",
       "  </tbody>\n",
       "</table>\n",
       "</div>"
      ],
      "text/plain": [
       "   Survived        dt      logr     randf       gbc   knn_cat   knn_num  \\\n",
       "0       0.0  0.000000  0.080191  0.097471  0.042651  0.090909  0.180328   \n",
       "1       1.0  1.000000  0.956367  0.950157  0.998871  1.000000  0.655738   \n",
       "2       1.0  0.500000  0.629976  0.461371  0.526554  0.454545  0.196721   \n",
       "3       1.0  1.000000  0.934691  0.937721  0.994400  1.000000  0.590164   \n",
       "4       0.0  0.121951  0.080579  0.127776  0.125205  0.090909  0.213115   \n",
       "\n",
       "        knn        nn  \n",
       "0  0.064516  0.123582  \n",
       "1  1.000000  0.996781  \n",
       "2  0.387097  0.396768  \n",
       "3  1.000000  0.997934  \n",
       "4  0.096774  0.126102  "
      ]
     },
     "execution_count": 104,
     "metadata": {},
     "output_type": "execute_result"
    }
   ],
   "source": [
    "test_result_frame.to_csv('./result_data/test_results.csv', index = False)\n",
    "#test_result_frame = pd.read_csv('./result_data/test_results.csv')\n",
    "\n",
    "train_result_frame.to_csv('./result_data/train_results.csv', index = False)\n",
    "#train_result_frame = pd.read_csv('./result_data/train_results.csv')\n",
    "train_result_frame.head()"
   ]
  },
  {
   "cell_type": "code",
   "execution_count": 105,
   "metadata": {},
   "outputs": [],
   "source": [
    "mse = {col: 0 for col in train_result_frame.columns if col != \"Survived\"}\n",
    "for col in mse:\n",
    "    error = mse[col]\n",
    "    for _,row in train_result_frame[['Survived', col]].iterrows():\n",
    "        error += math.pow(row['Survived'] - row[col], 2)\n",
    "    error /= train_result_frame.shape[0]\n",
    "    mse[col] = error"
   ]
  },
  {
   "cell_type": "code",
   "execution_count": 106,
   "metadata": {},
   "outputs": [
    {
     "name": "stdout",
     "output_type": "stream",
     "text": [
      "dt         MSE: 0.050\n",
      "gbc        MSE: 0.071\n",
      "nn         MSE: 0.097\n",
      "randf      MSE: 0.109\n",
      "knn        MSE: 0.112\n",
      "logr       MSE: 0.113\n",
      "knn_cat    MSE: 0.116\n",
      "knn_num    MSE: 0.204\n"
     ]
    }
   ],
   "source": [
    "for k, v in sorted(mse.items(), key=lambda item: item[1]):\n",
    "    print(f'{k:10} MSE: {mse[k]:.3f}')"
   ]
  }
 ],
 "metadata": {
  "kernelspec": {
   "display_name": "Python 3 (ipykernel)",
   "language": "python",
   "name": "python3"
  },
  "language_info": {
   "codemirror_mode": {
    "name": "ipython",
    "version": 3
   },
   "file_extension": ".py",
   "mimetype": "text/x-python",
   "name": "python",
   "nbconvert_exporter": "python",
   "pygments_lexer": "ipython3",
   "version": "3.8.2"
  }
 },
 "nbformat": 4,
 "nbformat_minor": 4
}
